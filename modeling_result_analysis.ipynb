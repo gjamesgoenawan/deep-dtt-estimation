{
 "cells": [
  {
   "cell_type": "code",
   "execution_count": 149,
   "id": "5a7e71d2",
   "metadata": {},
   "outputs": [],
   "source": [
    "from utils.head import ensemble\n",
    "from utils.dataset import load_compiled_data\n",
    "from utils.training import train_aux, train_de\n",
    "import matplotlib.pyplot as plt\n",
    "import torch\n",
    "import torch.nn as nn\n",
    "import torchinfo\n",
    "import pickle as pkl\n",
    "import time\n",
    "import os\n",
    "import numpy as np\n",
    "\n",
    "device = torch.device('cuda:0')\n",
    "\n",
    "offset = [[19.75390625, 248.5, 9.0, 5.5], [5.056640625, 248.5, 10.109375, 4.5]]\n",
    "divider = [[1895.24609375, 395.75, 175.25, 151.0],\n",
    "           [1909.443359375, 396.5, 172.640625, 83.5]]\n",
    "\n",
    "torch.backends.cudnn.benchmark = True\n",
    "trajectory_threshold = [800, 700]\n",
    "\n",
    "test_data = load_compiled_data(ts=[2,3,4], ws=[1], rs=[\n",
    "                               3], offset=offset, divider=divider, trajectory_threshold=trajectory_threshold, inference_mode = True, device=device, verbose=False)\n",
    "test_data['y'] = test_data['y']\n",
    "ff = torch.any(torch.all(test_data['x'] != 0, dim = 2), dim = 0)\n",
    "ff_all = torch.all(torch.all(test_data['x'] != 0, dim = 2), dim = 0)"
   ]
  },
  {
   "cell_type": "code",
   "execution_count": 150,
   "id": "1c4683d2",
   "metadata": {},
   "outputs": [],
   "source": [
    "model_list = ['s_s', 's_m', 's_l', 'm_s', 'm_m', 'm_l', 'l_s', 'l_m', 'l_l']\n",
    "seed_list = [0,1,2,3,4]\n",
    "init_list = ['kaiming']\n",
    "desc = 'big_dataset'"
   ]
  },
  {
   "cell_type": "code",
   "execution_count": 152,
   "id": "d50dbf27",
   "metadata": {},
   "outputs": [
    {
     "name": "stdout",
     "output_type": "stream",
     "text": [
      "Inferencing Model s_s, Seed 0, kaiming Initialization\n",
      "Input_Reg Aux DE Loaded\n",
      "Inferencing Model s_m, Seed 0, kaiming Initialization\n",
      "Input_Reg Aux DE Loaded\n",
      "Inferencing Model s_l, Seed 0, kaiming Initialization\n",
      "Input_Reg Aux DE Loaded\n",
      "Inferencing Model m_s, Seed 0, kaiming Initialization\n",
      "Input_Reg Aux DE Loaded\n",
      "Inferencing Model m_m, Seed 0, kaiming Initialization\n",
      "Input_Reg Aux DE Loaded\n",
      "Inferencing Model m_l, Seed 0, kaiming Initialization\n",
      "Input_Reg Aux DE Loaded\n",
      "Inferencing Model l_s, Seed 0, kaiming Initialization\n",
      "Input_Reg Aux DE Loaded\n",
      "Inferencing Model l_m, Seed 0, kaiming Initialization\n",
      "Input_Reg Aux DE Loaded\n",
      "Inferencing Model l_l, Seed 0, kaiming Initialization\n",
      "Input_Reg Aux DE Loaded\n"
     ]
    }
   ],
   "source": [
    "# Time dict Creation\n",
    "for init in init_list:\n",
    "    if os.path.exists(f'output/distance_estimator/{init}_{desc}_as.pkl'):\n",
    "        with open(f'output/distance_estimator/{init}_{desc}_as.pkl', 'rb') as f:\n",
    "            output_dict, time_dict = pkl.load(f)\n",
    "    else:\n",
    "        output_dict, time_dict = {}, {}\n",
    "        \n",
    "    time_dict = {i:torch.zeros(len(seed_list)) for i in model_list}\n",
    "    with open(f'output/distance_estimator/{init}_{desc}_as.pkl', 'wb') as f:\n",
    "        pkl.dump([output_dict, time_dict], f)\n",
    "            \n",
    "    for model_type in model_list:\n",
    "        seed = 0\n",
    "        print(f\"Inferencing Model {model_type}, Seed {seed}, {init} Initialization\")\n",
    "        model = ensemble(f'models/config/model_{model_type}.yaml', model_state_dict=f'models/head/{desc}/{init}_{seed}/{model_type}.pt', device=device)\n",
    "\n",
    "        with open(f'output/distance_estimator/{init}_{desc}_as.pkl', 'rb') as f:\n",
    "            output_dict, time_dict = pkl.load(f)\n",
    "\n",
    "        x_test = torch.ones([2,1,4], device = device)\n",
    "        for i in range(0, 500):\n",
    "            model(x_test, batch_mode = False)\n",
    "\n",
    "        t0=time.time()\n",
    "        for i in range(0, 100):\n",
    "            __ = model(x_test, batch_mode = False)\n",
    "        time_dict[model_type] = (time.time() - t0) / 100\n",
    "        \n",
    "\n",
    "        with open(f'output/distance_estimator/{init}_{desc}_as.pkl', 'wb') as f:\n",
    "            pkl.dump([output_dict, time_dict], f)\n"
   ]
  },
  {
   "cell_type": "code",
   "execution_count": 8,
   "id": "ce51ef66",
   "metadata": {
    "scrolled": true
   },
   "outputs": [
    {
     "name": "stdout",
     "output_type": "stream",
     "text": [
      "Inferencing Model s_s, Seed 0, kaiming Initialization\n",
      "Input Reg Loaded Aux Loaded DE Loaded \n"
     ]
    },
    {
     "data": {
      "application/vnd.jupyter.widget-view+json": {
       "model_id": "091922296e124585972f9bf7cab725c5",
       "version_major": 2,
       "version_minor": 0
      },
      "text/plain": [
       "  0%|          | 0/17104 [00:00<?, ?it/s]"
      ]
     },
     "metadata": {},
     "output_type": "display_data"
    },
    {
     "name": "stdout",
     "output_type": "stream",
     "text": [
      "Inferencing Model s_s, Seed 1, kaiming Initialization\n",
      "Input Reg Loaded Aux Loaded DE Loaded \n"
     ]
    },
    {
     "data": {
      "application/vnd.jupyter.widget-view+json": {
       "model_id": "9322a2c46ac54666b7f1b1a32c075d27",
       "version_major": 2,
       "version_minor": 0
      },
      "text/plain": [
       "  0%|          | 0/17104 [00:00<?, ?it/s]"
      ]
     },
     "metadata": {},
     "output_type": "display_data"
    },
    {
     "name": "stdout",
     "output_type": "stream",
     "text": [
      "Inferencing Model s_s, Seed 2, kaiming Initialization\n",
      "Input Reg Loaded Aux Loaded DE Loaded \n"
     ]
    },
    {
     "data": {
      "application/vnd.jupyter.widget-view+json": {
       "model_id": "af5b0e1ecf934571b569857adc82f8ad",
       "version_major": 2,
       "version_minor": 0
      },
      "text/plain": [
       "  0%|          | 0/17104 [00:00<?, ?it/s]"
      ]
     },
     "metadata": {},
     "output_type": "display_data"
    },
    {
     "name": "stdout",
     "output_type": "stream",
     "text": [
      "Inferencing Model s_s, Seed 3, kaiming Initialization\n",
      "Input Reg Loaded Aux Loaded DE Loaded \n"
     ]
    },
    {
     "data": {
      "application/vnd.jupyter.widget-view+json": {
       "model_id": "23b234f6973743eda1e457fa1c6a60ea",
       "version_major": 2,
       "version_minor": 0
      },
      "text/plain": [
       "  0%|          | 0/17104 [00:00<?, ?it/s]"
      ]
     },
     "metadata": {},
     "output_type": "display_data"
    },
    {
     "name": "stdout",
     "output_type": "stream",
     "text": [
      "Inferencing Model s_s, Seed 4, kaiming Initialization\n",
      "Input Reg Loaded Aux Loaded DE Loaded \n"
     ]
    },
    {
     "data": {
      "application/vnd.jupyter.widget-view+json": {
       "model_id": "d426d8a8c1d748de9042767aab23827b",
       "version_major": 2,
       "version_minor": 0
      },
      "text/plain": [
       "  0%|          | 0/17104 [00:00<?, ?it/s]"
      ]
     },
     "metadata": {},
     "output_type": "display_data"
    },
    {
     "name": "stdout",
     "output_type": "stream",
     "text": [
      "Inferencing Model s_m, Seed 0, kaiming Initialization\n",
      "Input Reg Loaded Aux Loaded DE Loaded \n"
     ]
    },
    {
     "data": {
      "application/vnd.jupyter.widget-view+json": {
       "model_id": "f4b04d6590374a90ac110ca3afad0275",
       "version_major": 2,
       "version_minor": 0
      },
      "text/plain": [
       "  0%|          | 0/17104 [00:00<?, ?it/s]"
      ]
     },
     "metadata": {},
     "output_type": "display_data"
    },
    {
     "name": "stdout",
     "output_type": "stream",
     "text": [
      "Inferencing Model s_m, Seed 1, kaiming Initialization\n",
      "Input Reg Loaded Aux Loaded DE Loaded \n"
     ]
    },
    {
     "data": {
      "application/vnd.jupyter.widget-view+json": {
       "model_id": "2943bca1757546daa7ffff3ed7ca3971",
       "version_major": 2,
       "version_minor": 0
      },
      "text/plain": [
       "  0%|          | 0/17104 [00:00<?, ?it/s]"
      ]
     },
     "metadata": {},
     "output_type": "display_data"
    },
    {
     "name": "stdout",
     "output_type": "stream",
     "text": [
      "Inferencing Model s_m, Seed 2, kaiming Initialization\n",
      "Input Reg Loaded Aux Loaded DE Loaded \n"
     ]
    },
    {
     "data": {
      "application/vnd.jupyter.widget-view+json": {
       "model_id": "9e9336f8cf4a471b8b720e25f6208037",
       "version_major": 2,
       "version_minor": 0
      },
      "text/plain": [
       "  0%|          | 0/17104 [00:00<?, ?it/s]"
      ]
     },
     "metadata": {},
     "output_type": "display_data"
    },
    {
     "name": "stdout",
     "output_type": "stream",
     "text": [
      "Inferencing Model s_m, Seed 3, kaiming Initialization\n",
      "Input Reg Loaded Aux Loaded DE Loaded \n"
     ]
    },
    {
     "data": {
      "application/vnd.jupyter.widget-view+json": {
       "model_id": "3cec01b4e63445ed835c745612ece8a1",
       "version_major": 2,
       "version_minor": 0
      },
      "text/plain": [
       "  0%|          | 0/17104 [00:00<?, ?it/s]"
      ]
     },
     "metadata": {},
     "output_type": "display_data"
    },
    {
     "name": "stdout",
     "output_type": "stream",
     "text": [
      "Inferencing Model s_m, Seed 4, kaiming Initialization\n",
      "Input Reg Loaded Aux Loaded DE Loaded \n"
     ]
    },
    {
     "data": {
      "application/vnd.jupyter.widget-view+json": {
       "model_id": "797d117315d34250af3ed311b19c6383",
       "version_major": 2,
       "version_minor": 0
      },
      "text/plain": [
       "  0%|          | 0/17104 [00:00<?, ?it/s]"
      ]
     },
     "metadata": {},
     "output_type": "display_data"
    },
    {
     "name": "stdout",
     "output_type": "stream",
     "text": [
      "Inferencing Model s_l, Seed 0, kaiming Initialization\n",
      "Input Reg Loaded Aux Loaded DE Loaded \n"
     ]
    },
    {
     "data": {
      "application/vnd.jupyter.widget-view+json": {
       "model_id": "dc458ea08f13488d92cf34a6bcbc9353",
       "version_major": 2,
       "version_minor": 0
      },
      "text/plain": [
       "  0%|          | 0/17104 [00:00<?, ?it/s]"
      ]
     },
     "metadata": {},
     "output_type": "display_data"
    },
    {
     "name": "stdout",
     "output_type": "stream",
     "text": [
      "Inferencing Model s_l, Seed 1, kaiming Initialization\n",
      "Input Reg Loaded Aux Loaded DE Loaded \n"
     ]
    },
    {
     "data": {
      "application/vnd.jupyter.widget-view+json": {
       "model_id": "ff8d763aef0443368939301e89ec3dd9",
       "version_major": 2,
       "version_minor": 0
      },
      "text/plain": [
       "  0%|          | 0/17104 [00:00<?, ?it/s]"
      ]
     },
     "metadata": {},
     "output_type": "display_data"
    },
    {
     "name": "stdout",
     "output_type": "stream",
     "text": [
      "Inferencing Model s_l, Seed 2, kaiming Initialization\n",
      "Input Reg Loaded Aux Loaded DE Loaded \n"
     ]
    },
    {
     "data": {
      "application/vnd.jupyter.widget-view+json": {
       "model_id": "68550cac18b34926b36f706a240c0ec3",
       "version_major": 2,
       "version_minor": 0
      },
      "text/plain": [
       "  0%|          | 0/17104 [00:00<?, ?it/s]"
      ]
     },
     "metadata": {},
     "output_type": "display_data"
    },
    {
     "name": "stdout",
     "output_type": "stream",
     "text": [
      "Inferencing Model s_l, Seed 3, kaiming Initialization\n",
      "Input Reg Loaded Aux Loaded DE Loaded \n"
     ]
    },
    {
     "data": {
      "application/vnd.jupyter.widget-view+json": {
       "model_id": "6b836189fcdf45ff8e64656e7066499f",
       "version_major": 2,
       "version_minor": 0
      },
      "text/plain": [
       "  0%|          | 0/17104 [00:00<?, ?it/s]"
      ]
     },
     "metadata": {},
     "output_type": "display_data"
    },
    {
     "name": "stdout",
     "output_type": "stream",
     "text": [
      "Inferencing Model s_l, Seed 4, kaiming Initialization\n",
      "Input Reg Loaded Aux Loaded DE Loaded \n"
     ]
    },
    {
     "data": {
      "application/vnd.jupyter.widget-view+json": {
       "model_id": "3c220d28ab4e4eb8a8c1e47a995e7d90",
       "version_major": 2,
       "version_minor": 0
      },
      "text/plain": [
       "  0%|          | 0/17104 [00:00<?, ?it/s]"
      ]
     },
     "metadata": {},
     "output_type": "display_data"
    },
    {
     "name": "stdout",
     "output_type": "stream",
     "text": [
      "Inferencing Model m_s, Seed 0, kaiming Initialization\n",
      "Input Reg Loaded Aux Loaded DE Loaded \n"
     ]
    },
    {
     "data": {
      "application/vnd.jupyter.widget-view+json": {
       "model_id": "f298e02ba69a481d8cf3d891e1a8aef9",
       "version_major": 2,
       "version_minor": 0
      },
      "text/plain": [
       "  0%|          | 0/17104 [00:00<?, ?it/s]"
      ]
     },
     "metadata": {},
     "output_type": "display_data"
    },
    {
     "name": "stdout",
     "output_type": "stream",
     "text": [
      "Inferencing Model m_s, Seed 1, kaiming Initialization\n",
      "Input Reg Loaded Aux Loaded DE Loaded \n"
     ]
    },
    {
     "data": {
      "application/vnd.jupyter.widget-view+json": {
       "model_id": "b0b90eb349b343669faa37c4ff8d0498",
       "version_major": 2,
       "version_minor": 0
      },
      "text/plain": [
       "  0%|          | 0/17104 [00:00<?, ?it/s]"
      ]
     },
     "metadata": {},
     "output_type": "display_data"
    },
    {
     "name": "stdout",
     "output_type": "stream",
     "text": [
      "Inferencing Model m_s, Seed 2, kaiming Initialization\n",
      "Input Reg Loaded Aux Loaded DE Loaded \n"
     ]
    },
    {
     "data": {
      "application/vnd.jupyter.widget-view+json": {
       "model_id": "120f67d7baad4d6b85b8a634a57208a7",
       "version_major": 2,
       "version_minor": 0
      },
      "text/plain": [
       "  0%|          | 0/17104 [00:00<?, ?it/s]"
      ]
     },
     "metadata": {},
     "output_type": "display_data"
    },
    {
     "name": "stdout",
     "output_type": "stream",
     "text": [
      "Inferencing Model m_s, Seed 3, kaiming Initialization\n",
      "Input Reg Loaded Aux Loaded DE Loaded \n"
     ]
    },
    {
     "data": {
      "application/vnd.jupyter.widget-view+json": {
       "model_id": "bceec05e46f1481ba74351453c41c3e5",
       "version_major": 2,
       "version_minor": 0
      },
      "text/plain": [
       "  0%|          | 0/17104 [00:00<?, ?it/s]"
      ]
     },
     "metadata": {},
     "output_type": "display_data"
    },
    {
     "name": "stdout",
     "output_type": "stream",
     "text": [
      "Inferencing Model m_s, Seed 4, kaiming Initialization\n",
      "Input Reg Loaded Aux Loaded DE Loaded \n"
     ]
    },
    {
     "data": {
      "application/vnd.jupyter.widget-view+json": {
       "model_id": "797b05606c7145238598b554390ebd88",
       "version_major": 2,
       "version_minor": 0
      },
      "text/plain": [
       "  0%|          | 0/17104 [00:00<?, ?it/s]"
      ]
     },
     "metadata": {},
     "output_type": "display_data"
    },
    {
     "name": "stdout",
     "output_type": "stream",
     "text": [
      "Inferencing Model m_m, Seed 0, kaiming Initialization\n",
      "Input Reg Loaded Aux Loaded DE Loaded \n"
     ]
    },
    {
     "data": {
      "application/vnd.jupyter.widget-view+json": {
       "model_id": "8bcf4b5ed32145728df88d921242818c",
       "version_major": 2,
       "version_minor": 0
      },
      "text/plain": [
       "  0%|          | 0/17104 [00:00<?, ?it/s]"
      ]
     },
     "metadata": {},
     "output_type": "display_data"
    },
    {
     "name": "stdout",
     "output_type": "stream",
     "text": [
      "Inferencing Model m_m, Seed 1, kaiming Initialization\n",
      "Input Reg Loaded Aux Loaded DE Loaded \n"
     ]
    },
    {
     "data": {
      "application/vnd.jupyter.widget-view+json": {
       "model_id": "223d9373c46b486b9c069b1533463cc0",
       "version_major": 2,
       "version_minor": 0
      },
      "text/plain": [
       "  0%|          | 0/17104 [00:00<?, ?it/s]"
      ]
     },
     "metadata": {},
     "output_type": "display_data"
    },
    {
     "name": "stdout",
     "output_type": "stream",
     "text": [
      "Inferencing Model m_m, Seed 2, kaiming Initialization\n",
      "Input Reg Loaded Aux Loaded DE Loaded \n"
     ]
    },
    {
     "data": {
      "application/vnd.jupyter.widget-view+json": {
       "model_id": "8c8986e7d555457fb500012fcba2cc86",
       "version_major": 2,
       "version_minor": 0
      },
      "text/plain": [
       "  0%|          | 0/17104 [00:00<?, ?it/s]"
      ]
     },
     "metadata": {},
     "output_type": "display_data"
    },
    {
     "name": "stdout",
     "output_type": "stream",
     "text": [
      "Inferencing Model m_m, Seed 3, kaiming Initialization\n",
      "Input Reg Loaded Aux Loaded DE Loaded \n"
     ]
    },
    {
     "data": {
      "application/vnd.jupyter.widget-view+json": {
       "model_id": "a3f3031aa46a4ae0b9bb565f61331d12",
       "version_major": 2,
       "version_minor": 0
      },
      "text/plain": [
       "  0%|          | 0/17104 [00:00<?, ?it/s]"
      ]
     },
     "metadata": {},
     "output_type": "display_data"
    },
    {
     "name": "stdout",
     "output_type": "stream",
     "text": [
      "Inferencing Model m_m, Seed 4, kaiming Initialization\n",
      "Input Reg Loaded Aux Loaded DE Loaded \n"
     ]
    },
    {
     "data": {
      "application/vnd.jupyter.widget-view+json": {
       "model_id": "cc2b32481a4c4467bc22d4f38dd5e294",
       "version_major": 2,
       "version_minor": 0
      },
      "text/plain": [
       "  0%|          | 0/17104 [00:00<?, ?it/s]"
      ]
     },
     "metadata": {},
     "output_type": "display_data"
    },
    {
     "name": "stdout",
     "output_type": "stream",
     "text": [
      "Inferencing Model m_l, Seed 0, kaiming Initialization\n",
      "Input Reg Loaded Aux Loaded DE Loaded \n"
     ]
    },
    {
     "data": {
      "application/vnd.jupyter.widget-view+json": {
       "model_id": "32b6abbeeebf4107bb10813f8885e639",
       "version_major": 2,
       "version_minor": 0
      },
      "text/plain": [
       "  0%|          | 0/17104 [00:00<?, ?it/s]"
      ]
     },
     "metadata": {},
     "output_type": "display_data"
    },
    {
     "name": "stdout",
     "output_type": "stream",
     "text": [
      "Inferencing Model m_l, Seed 1, kaiming Initialization\n",
      "Input Reg Loaded Aux Loaded DE Loaded \n"
     ]
    },
    {
     "data": {
      "application/vnd.jupyter.widget-view+json": {
       "model_id": "d069d5dc99ed404db06523e91cadf72a",
       "version_major": 2,
       "version_minor": 0
      },
      "text/plain": [
       "  0%|          | 0/17104 [00:00<?, ?it/s]"
      ]
     },
     "metadata": {},
     "output_type": "display_data"
    },
    {
     "name": "stdout",
     "output_type": "stream",
     "text": [
      "Inferencing Model m_l, Seed 2, kaiming Initialization\n",
      "Input Reg Loaded Aux Loaded DE Loaded \n"
     ]
    },
    {
     "data": {
      "application/vnd.jupyter.widget-view+json": {
       "model_id": "5d9e1d50e61644079b039fd16208ee63",
       "version_major": 2,
       "version_minor": 0
      },
      "text/plain": [
       "  0%|          | 0/17104 [00:00<?, ?it/s]"
      ]
     },
     "metadata": {},
     "output_type": "display_data"
    },
    {
     "name": "stdout",
     "output_type": "stream",
     "text": [
      "Inferencing Model m_l, Seed 3, kaiming Initialization\n",
      "Input Reg Loaded Aux Loaded DE Loaded \n"
     ]
    },
    {
     "data": {
      "application/vnd.jupyter.widget-view+json": {
       "model_id": "fc6cecf0824944c2887427f171222ea3",
       "version_major": 2,
       "version_minor": 0
      },
      "text/plain": [
       "  0%|          | 0/17104 [00:00<?, ?it/s]"
      ]
     },
     "metadata": {},
     "output_type": "display_data"
    },
    {
     "name": "stdout",
     "output_type": "stream",
     "text": [
      "Inferencing Model m_l, Seed 4, kaiming Initialization\n",
      "Input Reg Loaded Aux Loaded DE Loaded \n"
     ]
    },
    {
     "data": {
      "application/vnd.jupyter.widget-view+json": {
       "model_id": "710163a8cad3466a98656cddf935801e",
       "version_major": 2,
       "version_minor": 0
      },
      "text/plain": [
       "  0%|          | 0/17104 [00:00<?, ?it/s]"
      ]
     },
     "metadata": {},
     "output_type": "display_data"
    },
    {
     "name": "stdout",
     "output_type": "stream",
     "text": [
      "Inferencing Model l_s, Seed 0, kaiming Initialization\n",
      "Input Reg Loaded Aux Loaded DE Loaded \n"
     ]
    },
    {
     "data": {
      "application/vnd.jupyter.widget-view+json": {
       "model_id": "612d9ae0072440b0953dbacf50757e99",
       "version_major": 2,
       "version_minor": 0
      },
      "text/plain": [
       "  0%|          | 0/17104 [00:00<?, ?it/s]"
      ]
     },
     "metadata": {},
     "output_type": "display_data"
    },
    {
     "name": "stdout",
     "output_type": "stream",
     "text": [
      "Inferencing Model l_s, Seed 1, kaiming Initialization\n",
      "Input Reg Loaded Aux Loaded DE Loaded \n"
     ]
    },
    {
     "data": {
      "application/vnd.jupyter.widget-view+json": {
       "model_id": "af302158b30644da86ac332246aa2dbd",
       "version_major": 2,
       "version_minor": 0
      },
      "text/plain": [
       "  0%|          | 0/17104 [00:00<?, ?it/s]"
      ]
     },
     "metadata": {},
     "output_type": "display_data"
    },
    {
     "name": "stdout",
     "output_type": "stream",
     "text": [
      "Inferencing Model l_s, Seed 2, kaiming Initialization\n",
      "Input Reg Loaded Aux Loaded DE Loaded \n"
     ]
    },
    {
     "data": {
      "application/vnd.jupyter.widget-view+json": {
       "model_id": "05014f0e1a474d529e15374102f62248",
       "version_major": 2,
       "version_minor": 0
      },
      "text/plain": [
       "  0%|          | 0/17104 [00:00<?, ?it/s]"
      ]
     },
     "metadata": {},
     "output_type": "display_data"
    },
    {
     "name": "stdout",
     "output_type": "stream",
     "text": [
      "Inferencing Model l_s, Seed 3, kaiming Initialization\n",
      "Input Reg Loaded Aux Loaded DE Loaded \n"
     ]
    },
    {
     "data": {
      "application/vnd.jupyter.widget-view+json": {
       "model_id": "66fc804a14204732b12a050c740ba19e",
       "version_major": 2,
       "version_minor": 0
      },
      "text/plain": [
       "  0%|          | 0/17104 [00:00<?, ?it/s]"
      ]
     },
     "metadata": {},
     "output_type": "display_data"
    },
    {
     "name": "stdout",
     "output_type": "stream",
     "text": [
      "Inferencing Model l_s, Seed 4, kaiming Initialization\n",
      "Input Reg Loaded Aux Loaded DE Loaded \n"
     ]
    },
    {
     "data": {
      "application/vnd.jupyter.widget-view+json": {
       "model_id": "b58c9f789065456d876e3944335c6e5d",
       "version_major": 2,
       "version_minor": 0
      },
      "text/plain": [
       "  0%|          | 0/17104 [00:00<?, ?it/s]"
      ]
     },
     "metadata": {},
     "output_type": "display_data"
    },
    {
     "name": "stdout",
     "output_type": "stream",
     "text": [
      "Inferencing Model l_m, Seed 0, kaiming Initialization\n",
      "Input Reg Loaded Aux Loaded DE Loaded \n"
     ]
    },
    {
     "data": {
      "application/vnd.jupyter.widget-view+json": {
       "model_id": "949ef9c226e843fe9d5b1fe7ea1726a4",
       "version_major": 2,
       "version_minor": 0
      },
      "text/plain": [
       "  0%|          | 0/17104 [00:00<?, ?it/s]"
      ]
     },
     "metadata": {},
     "output_type": "display_data"
    },
    {
     "name": "stdout",
     "output_type": "stream",
     "text": [
      "Inferencing Model l_m, Seed 1, kaiming Initialization\n",
      "Input Reg Loaded Aux Loaded DE Loaded \n"
     ]
    },
    {
     "data": {
      "application/vnd.jupyter.widget-view+json": {
       "model_id": "a89cb18b4754474f9d4e64429f4fef02",
       "version_major": 2,
       "version_minor": 0
      },
      "text/plain": [
       "  0%|          | 0/17104 [00:00<?, ?it/s]"
      ]
     },
     "metadata": {},
     "output_type": "display_data"
    },
    {
     "name": "stdout",
     "output_type": "stream",
     "text": [
      "Inferencing Model l_m, Seed 2, kaiming Initialization\n",
      "Input Reg Loaded Aux Loaded DE Loaded \n"
     ]
    },
    {
     "data": {
      "application/vnd.jupyter.widget-view+json": {
       "model_id": "02f1e71fe91040248866347a542b5026",
       "version_major": 2,
       "version_minor": 0
      },
      "text/plain": [
       "  0%|          | 0/17104 [00:00<?, ?it/s]"
      ]
     },
     "metadata": {},
     "output_type": "display_data"
    },
    {
     "name": "stdout",
     "output_type": "stream",
     "text": [
      "Inferencing Model l_m, Seed 3, kaiming Initialization\n",
      "Input Reg Loaded Aux Loaded DE Loaded \n"
     ]
    },
    {
     "data": {
      "application/vnd.jupyter.widget-view+json": {
       "model_id": "81b80660a2694eba8ca9ea76029d4ec0",
       "version_major": 2,
       "version_minor": 0
      },
      "text/plain": [
       "  0%|          | 0/17104 [00:00<?, ?it/s]"
      ]
     },
     "metadata": {},
     "output_type": "display_data"
    },
    {
     "name": "stdout",
     "output_type": "stream",
     "text": [
      "Inferencing Model l_m, Seed 4, kaiming Initialization\n",
      "Input Reg Loaded Aux Loaded DE Loaded \n"
     ]
    },
    {
     "data": {
      "application/vnd.jupyter.widget-view+json": {
       "model_id": "1993c6849a4e4677abfd1a8244aacd58",
       "version_major": 2,
       "version_minor": 0
      },
      "text/plain": [
       "  0%|          | 0/17104 [00:00<?, ?it/s]"
      ]
     },
     "metadata": {},
     "output_type": "display_data"
    },
    {
     "name": "stdout",
     "output_type": "stream",
     "text": [
      "Inferencing Model l_l, Seed 0, kaiming Initialization\n",
      "Input Reg Loaded Aux Loaded DE Loaded \n"
     ]
    },
    {
     "data": {
      "application/vnd.jupyter.widget-view+json": {
       "model_id": "2c789f19fdcb445fa71b09546cb2b0ce",
       "version_major": 2,
       "version_minor": 0
      },
      "text/plain": [
       "  0%|          | 0/17104 [00:00<?, ?it/s]"
      ]
     },
     "metadata": {},
     "output_type": "display_data"
    },
    {
     "name": "stdout",
     "output_type": "stream",
     "text": [
      "Inferencing Model l_l, Seed 1, kaiming Initialization\n",
      "Input Reg Loaded Aux Loaded DE Loaded \n"
     ]
    },
    {
     "data": {
      "application/vnd.jupyter.widget-view+json": {
       "model_id": "c381173da41b43d69d83afb3180ee70a",
       "version_major": 2,
       "version_minor": 0
      },
      "text/plain": [
       "  0%|          | 0/17104 [00:00<?, ?it/s]"
      ]
     },
     "metadata": {},
     "output_type": "display_data"
    },
    {
     "name": "stdout",
     "output_type": "stream",
     "text": [
      "Inferencing Model l_l, Seed 2, kaiming Initialization\n",
      "Input Reg Loaded Aux Loaded DE Loaded \n"
     ]
    },
    {
     "data": {
      "application/vnd.jupyter.widget-view+json": {
       "model_id": "b6eb2377e70f4e9bab63be565bd10099",
       "version_major": 2,
       "version_minor": 0
      },
      "text/plain": [
       "  0%|          | 0/17104 [00:00<?, ?it/s]"
      ]
     },
     "metadata": {},
     "output_type": "display_data"
    },
    {
     "name": "stdout",
     "output_type": "stream",
     "text": [
      "Inferencing Model l_l, Seed 3, kaiming Initialization\n",
      "Input Reg Loaded Aux Loaded DE Loaded \n"
     ]
    },
    {
     "data": {
      "application/vnd.jupyter.widget-view+json": {
       "model_id": "2ecb35e8c0c240efa8ffc3f697d8d1d2",
       "version_major": 2,
       "version_minor": 0
      },
      "text/plain": [
       "  0%|          | 0/17104 [00:00<?, ?it/s]"
      ]
     },
     "metadata": {},
     "output_type": "display_data"
    },
    {
     "name": "stdout",
     "output_type": "stream",
     "text": [
      "Inferencing Model l_l, Seed 4, kaiming Initialization\n",
      "Input Reg Loaded Aux Loaded DE Loaded \n"
     ]
    },
    {
     "data": {
      "application/vnd.jupyter.widget-view+json": {
       "model_id": "4d9af8382208465aabf722574f182553",
       "version_major": 2,
       "version_minor": 0
      },
      "text/plain": [
       "  0%|          | 0/17104 [00:00<?, ?it/s]"
      ]
     },
     "metadata": {},
     "output_type": "display_data"
    }
   ],
   "source": [
    "for init in init_list:\n",
    "    if os.path.exists(f'output/distance_estimator/{init}_{desc}_as.pkl'):\n",
    "        with open(f'output/distance_estimator/{init}_{desc}_as.pkl', 'rb') as f:\n",
    "            output_dict, time_dict = pkl.load(f)\n",
    "    else:\n",
    "        output_dict, time_dict = {}, {}\n",
    "        \n",
    "    output_dict = {i:torch.zeros(len(seed_list), test_data['x'][:, ff].shape[1]) for i in model_list}\n",
    "    \n",
    "    with open(f'output/distance_estimator/{init}_{desc}_as.pkl', 'wb') as f:\n",
    "        pkl.dump([output_dict, time_dict], f)\n",
    "            \n",
    "    for model_type in model_list:\n",
    "        for seed in seed_list:\n",
    "            print(f\"Inferencing Model {model_type}, Seed {seed}, {init} Initialization\")\n",
    "            model = ensemble(f'models/config/model_{model_type}.yaml', model_state_dict=f'models/head/{desc}/{init}_{seed}/{model_type}.pt', device=device)\n",
    "            \n",
    "            with open(f'output/distance_estimator/{init}_{desc}_as.pkl', 'rb') as f:\n",
    "                output_dict, time_dict = pkl.load(f)\n",
    "\n",
    "            output_dict[model_type][seed] = model(test_data['x'][:, ff]).cpu()\n",
    "\n",
    "            with open(f'output/distance_estimator/{init}_{desc}_as.pkl', 'wb') as f:\n",
    "                pkl.dump([output_dict, time_dict], f)"
   ]
  },
  {
   "cell_type": "code",
   "execution_count": 115,
   "id": "f024949b",
   "metadata": {},
   "outputs": [],
   "source": [
    "init = init_list[0]\n",
    "with open(f'output/distance_estimator/{init}_{desc}_as.pkl', 'rb') as f:\n",
    "    output_dict, time_dict = pkl.load(f)\n",
    "best_mape = {}\n",
    "for i in output_dict.keys():\n",
    "    best_mape[i] = torch.mean(torch.mean(abs(output_dict[i].cuda() - test_data['y'][0, ff, 0]) * 100 / test_data['y'][0, ff, 0], axis = 1)).item()\n",
    "output_s = [best_mape[i] for i in ['s_s', 's_m', 's_l']]\n",
    "output_m = [best_mape[i] for i in ['m_s', 'm_m', 'm_l']]\n",
    "output_l = [best_mape[i] for i in ['l_s', 'l_m', 'l_l']]\n",
    "time_s = [time_dict[model_type] * 1000 for model_type in ['s_s', 's_m', 's_l']]\n",
    "time_m = [time_dict[model_type] * 1000 for model_type in ['m_s', 'm_m', 'm_l']]\n",
    "time_l = [time_dict[model_type] * 1000 for model_type in ['l_s', 'l_m', 'l_l']]"
   ]
  },
  {
   "cell_type": "code",
   "execution_count": 134,
   "id": "83a3e009",
   "metadata": {},
   "outputs": [
    {
     "data": {
      "text/plain": [
       "<matplotlib.legend.Legend at 0x7f712b928c70>"
      ]
     },
     "execution_count": 134,
     "metadata": {},
     "output_type": "execute_result"
    },
    {
     "data": {
      "image/png": "[encoded data removed]",
      "text/plain": [
       "<Figure size 504x504 with 1 Axes>"
      ]
     },
     "metadata": {
      "needs_background": "light"
     },
     "output_type": "display_data"
    }
   ],
   "source": [
    "from matplotlib.lines import Line2D\n",
    "\n",
    "fig, ax = plt.subplots(1,1, figsize = (7, 7))\n",
    "cmap1 = plt.cm.flag\n",
    "cmap2 = plt.cm.viridis\n",
    "ax.scatter(time_s, output_s, c=[0,1,2], vmin=0, vmax=20, cmap = 'flag', zorder = 2)\n",
    "ax.scatter(time_m, output_m, c=[0,1,2], vmin=0, vmax=20, cmap = 'flag', zorder = 2)\n",
    "ax.scatter(time_l, output_l, c=[0,1,2], vmin=0, vmax=20, cmap = 'flag', zorder = 2)\n",
    "\n",
    "ax.set_title(\"Model Types Comparison\")\n",
    "ax.set_ylabel('MAPE (%)')\n",
    "ax.set_xlabel('Inference Time (ms)')\n",
    "\n",
    "ax.plot(time_s, output_s, zorder = 1, c='#156DB6')\n",
    "ax.plot(time_m, output_m, zorder = 1, c='#DF8000')\n",
    "ax.plot(time_l, output_l, zorder = 1, c='#17BB24')\n",
    "\n",
    "\n",
    "custom_lines_1 = [Line2D([0], [0], color=cmap1(0), lw=0, marker='o', markersize=6),\n",
    "                Line2D([0], [0], color=cmap1(1000), lw=0, marker='o', markersize=6),\n",
    "                Line2D([0], [0], color=cmap1(9), lw=0, marker='o', markersize=6)]\n",
    "\n",
    "custom_lines_2 = [Line2D([0], [0], color='#156DB6', lw = 4),\n",
    "                Line2D([0], [0], color='#DF8000', lw = 4),\n",
    "                Line2D([0], [0], color='#17BB24', lw = 4)]\n",
    "\n",
    "\n",
    "legend1 = ax.legend(custom_lines_1, ['Small', 'Medium', 'Large'], title= \"Sequential Model Size\", loc ='upper right')\n",
    "ax.add_artist(legend1)\n",
    "legend2 = ax.legend(custom_lines_2, ['Small', 'Medium', 'Large'], title=\"Calibration Layer Size\", loc = 'upper center', bbox_to_anchor=[0.837, 0.82])\n",
    "ax.add_artist(legend2)"
   ]
  },
  {
   "cell_type": "code",
   "execution_count": 96,
   "id": "adcd4944",
   "metadata": {},
   "outputs": [
    {
     "data": {
      "text/plain": [
       "Text(0.5, 0, 'Airplane Distance (nm)')"
      ]
     },
     "execution_count": 96,
     "metadata": {},
     "output_type": "execute_result"
    },
    {
     "data": {
      "image/png": "[encoded data removed]",
      "text/plain": [
       "<Figure size 432x288 with 1 Axes>"
      ]
     },
     "metadata": {
      "needs_background": "light"
     },
     "output_type": "display_data"
    }
   ],
   "source": [
    "with open(f'output/distance_estimator/{init}_{desc}_as.pkl', 'rb') as f:\n",
    "    output_dict, time_dict = pkl.load(f)\n",
    "    \n",
    "fig, ax = plt.subplots(1,1)\n",
    "ss = np.argsort(test_data['y'][0, ff, 0].cpu().numpy())\n",
    "\n",
    "gt = test_data['y'][0, ff, 0].cpu().numpy()[ss]\n",
    "pred = output_dict['m_m'][3][ss]\n",
    "error = ((pred - gt) / gt) * 100\n",
    "\n",
    "ax.plot(gt * 10, error)\n",
    "ax.set_title(\"Prediction Accuracy vs Airplane Distance\")\n",
    "ax.set_ylabel(\"Percetage Error (%)\")\n",
    "ax.set_xlabel(\"Airplane Distance (nm)\")"
   ]
  },
  {
   "cell_type": "code",
   "execution_count": 136,
   "id": "a6b49f4a",
   "metadata": {
    "scrolled": false
   },
   "outputs": [
    {
     "data": {
      "application/vnd.jupyter.widget-view+json": {
       "model_id": "4b23d2e3e96e4209bf1b0c42ec6d5689",
       "version_major": 2,
       "version_minor": 0
      },
      "text/plain": [
       "  0%|          | 0/1 [00:00<?, ?it/s]"
      ]
     },
     "metadata": {},
     "output_type": "display_data"
    },
    {
     "data": {
      "text/plain": [
       "==========================================================================================\n",
       "Layer (type:depth-idx)                   Output Shape              Param #\n",
       "==========================================================================================\n",
       "ensemble                                 [1]                       131,585\n",
       "├─ModuleList: 1-1                        --                        198,656\n",
       "│    └─Sequential: 2-1                   [1, 512]                  --\n",
       "│    │    └─Linear: 3-1                  [1, 256]                  1,280\n",
       "│    │    └─LeakyReLU: 3-2               [1, 256]                  --\n",
       "│    │    └─Linear: 3-3                  [1, 256]                  65,792\n",
       "│    │    └─LeakyReLU: 3-4               [1, 256]                  --\n",
       "│    │    └─Linear: 3-5                  [1, 512]                  131,584\n",
       "│    │    └─LeakyReLU: 3-6               [1, 512]                  --\n",
       "├─Sequential: 1-2                        [1, 1]                    --\n",
       "│    └─LSTM: 2-2                         [1, 1, 1024]              23,093,248\n",
       "│    └─extract_tensor: 2-3               [1, 1024]                 --\n",
       "│    └─Linear: 2-4                       [1, 512]                  524,800\n",
       "│    └─LeakyReLU: 2-5                    [1, 512]                  --\n",
       "│    └─Linear: 2-6                       [1, 1]                    513\n",
       "│    └─LeakyReLU: 2-7                    [1, 1]                    --\n",
       "==========================================================================================\n",
       "Total params: 24,147,458\n",
       "Trainable params: 24,147,458\n",
       "Non-trainable params: 0\n",
       "Total mult-adds (M): 23.82\n",
       "==========================================================================================\n",
       "Input size (MB): 0.00\n",
       "Forward/backward pass size (MB): 0.02\n",
       "Params size (MB): 95.27\n",
       "Estimated Total Size (MB): 95.29\n",
       "=========================================================================================="
      ]
     },
     "execution_count": 136,
     "metadata": {},
     "output_type": "execute_result"
    }
   ],
   "source": [
    "import torchinfo\n",
    "model = ensemble(f'models/config/model_{model_list[8]}.yaml', device=device, num_camera=2)\n",
    "torchinfo.summary(model, input_size=(1,1,4))"
   ]
  }
 ],
 "metadata": {
  "kernelspec": {
   "display_name": "ad",
   "language": "python",
   "name": "ad"
  },
  "language_info": {
   "codemirror_mode": {
    "name": "ipython",
    "version": 3
   },
   "file_extension": ".py",
   "mimetype": "text/x-python",
   "name": "python",
   "nbconvert_exporter": "python",
   "pygments_lexer": "ipython3",
   "version": "3.10.6"
  }
 },
 "nbformat": 4,
 "nbformat_minor": 5
}
