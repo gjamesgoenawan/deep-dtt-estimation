{
 "cells": [
  {
   "cell_type": "code",
   "execution_count": null,
   "id": "61bac0c2",
   "metadata": {},
   "outputs": [],
   "source": [
    "!pip install --upgrade setuptools pip --user\n",
    "!pip install nvidia-pyindex\n",
    "!pip install onnx_graphsurgeon\n",
    "!pip install onnx \n",
    "!pip install onnxruntime\n",
    "!pip install --ignore-installed PyYAML\n",
    "!pip install --upgrade nvidia-tensorrt\n",
    "!pip install pycuda \n",
    "!pip install protobuf<4.21.3\n",
    "!pip install onnxruntime\n",
    "!pip install onnx>=1.9.0\n",
    "!pip install onnx-simplifier>=0.3.6 --user\n",
    "!pip install pandas\n",
    "!pip install opencv-python\n",
    "!pip install tqdm\n",
    "!pip install matplotlib\n",
    "!pip install seaborn\n",
    "!pip install scipy"
   ]
  },
  {
   "cell_type": "code",
   "execution_count": null,
   "id": "e50336ae",
   "metadata": {},
   "outputs": [],
   "source": [
    "!python yolov7/export.py --weights yolov7/yolov7.pt --grid --simplify --include-nms --topk-all 20 --batch-size 12"
   ]
  },
  {
   "cell_type": "code",
   "execution_count": null,
   "id": "0660ffab",
   "metadata": {},
   "outputs": [],
   "source": [
    "!python tensorrt-python/export.py -o yolov7/yolov7.onnx -e yolov7-single.trt -p fp16"
   ]
  }
 ],
 "metadata": {
  "kernelspec": {
   "display_name": "ad",
   "language": "python",
   "name": "ad"
  },
  "language_info": {
   "codemirror_mode": {
    "name": "ipython",
    "version": 3
   },
   "file_extension": ".py",
   "mimetype": "text/x-python",
   "name": "python",
   "nbconvert_exporter": "python",
   "pygments_lexer": "ipython3",
   "version": "3.10.6"
  }
 },
 "nbformat": 4,
 "nbformat_minor": 5
}
