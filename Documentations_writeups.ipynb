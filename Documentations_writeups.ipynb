{
 "cells": [
  {
   "cell_type": "code",
   "execution_count": 1,
   "id": "d46cbc3d",
   "metadata": {},
   "outputs": [],
   "source": [
    "import random\n",
    "from utils.training import *"
   ]
  },
  {
   "cell_type": "code",
   "execution_count": null,
   "id": "0ed86af1",
   "metadata": {},
   "outputs": [],
   "source": []
  },
  {
   "cell_type": "markdown",
   "id": "779861b5",
   "metadata": {},
   "source": [
    "#### Function to train `input_regs` with `aux_head`\n",
    "\n",
    "Input: \n",
    "    - `input_regs`           : A list of `input_reg` type models.\n",
    "    - `aux_head`             : An `aux` type model.\n",
    "    - `train_data`           : Train Data that can be obtained from `utils.data.load_compiled_data`.\n",
    "    - `test_data`            : Test  Data that can be obtained from `utils.data.load_compiled_data`.\n",
    "    - `total_epochs`         : Total Number of epochs to train on.\n",
    "    - `num_camera`           : Number of camera / views present.\n",
    "    - `loss_scale`           : Constant to scale the loss\n",
    "    - `lr`                   : Learning Rate (will be constant throughout the training)\n",
    "    - `mode`                 : Training Mode (more details below)\n",
    "    - `optimizers_algortihm` : Optimizer Algorithm (refer to torch.optim)\n",
    "    - `training_log`         : A list of numpy.ndarray to store errors. If `None`, a new list will be created.\n",
    "    - `optimizers`           : A list of optimizers that will be used. If `None`, a new list will be created.\n",
    "\n",
    "Output:\n",
    "    - `input_regs`           : A list of trained `input_reg` type models.\n",
    "    - `aux_head`             : A trained `aux` type model.\n",
    "    - `epochs`               : Total Number of epochs the models are trained on.\n",
    "    - `training_log`         : A list of numpy.ndarray with previous errors.\n",
    "    - `optimizers`           : A list of optimizers used.\n",
    "\n",
    "Note:\n",
    "- Due to the generally small size of the models, no minibatch is used, hence there are only 1-2 training iterations per epoch.\n",
    "- Training Modes Available: `'auto'`, `'all'`, `camera n`\n",
    "    - `all` will train all camera in order.\n",
    "    - `camera n` will train specific camera. \n",
    "    - `auto` will intelligently choose which mode to achieve optimal result\n",
    "    \n",
    "  Note that Camera is counted from 1, hence `0` will target `Camera 1`.\n",
    "  \n",
    "- It is recommended to pass previous `training_log` and `optimizers` for further training to ensure previous logs are not lost and optimizers state are carried on if necessary."
   ]
  },
  {
   "cell_type": "markdown",
   "id": "dce0ac89",
   "metadata": {},
   "source": [
    "#### Function to train `de`\n",
    "\n",
    "Input: \n",
    "    - `input_regs`           : A list of `input_reg` type models.\n",
    "    - `sequential_de`        : An `de` type model.\n",
    "    - `train_data`           : Train Data that can be obtained from `utils.data.load_compiled_data`.\n",
    "    - `test_data`            : Test  Data that can be obtained from `utils.data.load_compiled_data`.\n",
    "    - `total_epochs`         : Total Number of epochs to train on.\n",
    "    - `num_camera`           : Number of camera / views present.\n",
    "    - `batch_size`           : Size of minibatch\n",
    "    - `loss_scale`           : Constant to scale the loss\n",
    "    - `lr`                   : Learning Rate (will be constant throughout the training)\n",
    "    - `mode`                 : Training Mode (more details below)\n",
    "    - `optimizers_algortihm` : Optimizer Algorithm (refer to torch.optim)\n",
    "    - `training_log`         : A list of numpy.ndarray to store errors. If `None`, a new list will be created.\n",
    "    - `optimizers`           : A list of optimizers that will be used. If `None`, a new list will be created.\n",
    "\n",
    "Output:\n",
    "    - `input_regs`           : A list of trained `input_reg` type models.\n",
    "    - `aux_head`             : A trained `aux` type model.\n",
    "    - `epochs`               : Total Number of epochs the models are trained on.\n",
    "    - `training_log`         : A list of numpy.ndarray with previous errors.\n",
    "    - `optimizers`           : A list of optimizers used.\n",
    "\n",
    "Note:\n",
    "- Since minibatch training is used, number of training iterations varies depending on the `batch_size`.\n",
    "- Training Modes Available: `'random'`, `camera n`\n",
    "    - `random` will randomly drop views / camera in the minibatch.\n",
    "    - `camera n` will constantly drop specific view / camera. \n",
    "    \n",
    "  Note that Camera is counted from 1, hence `0` will target `Camera 1`.\n",
    "  \n",
    "- It is recommended to pass previous `training_log` and `optimizers` for further training to ensure previous logs are not lost and optimizers state are carried on if necessary."
   ]
  },
  {
   "cell_type": "code",
   "execution_count": null,
   "id": "e3f6a0d9",
   "metadata": {},
   "outputs": [],
   "source": []
  }
 ],
 "metadata": {
  "kernelspec": {
   "display_name": "ad",
   "language": "python",
   "name": "ad"
  },
  "language_info": {
   "codemirror_mode": {
    "name": "ipython",
    "version": 3
   },
   "file_extension": ".py",
   "mimetype": "text/x-python",
   "name": "python",
   "nbconvert_exporter": "python",
   "pygments_lexer": "ipython3",
   "version": "3.10.6"
  }
 },
 "nbformat": 4,
 "nbformat_minor": 5
}
