{
 "cells": [
  {
   "cell_type": "code",
   "execution_count": 1,
   "id": "7ee39c2a",
   "metadata": {},
   "outputs": [
    {
     "name": "stdout",
     "output_type": "stream",
     "text": [
      "aircraft-detection custom utils\n"
     ]
    },
    {
     "data": {
      "text/plain": [
       "auxiliary_head(\n",
       "  (fc_1): Linear(in_features=256, out_features=128, bias=True)\n",
       "  (fc_2): Linear(in_features=128, out_features=1, bias=True)\n",
       "  (relu): ReLU()\n",
       ")"
      ]
     },
     "execution_count": 1,
     "metadata": {},
     "output_type": "execute_result"
    }
   ],
   "source": [
    "import torch.nn as nn\n",
    "import torch\n",
    "import tqdm.notebook as tqdm\n",
    "from IPython import display\n",
    "import matplotlib.pyplot as plt\n",
    "import pickle as pkl\n",
    "from sklearn.covariance import EllipticEnvelope\n",
    "from utils.dataset import load_compiled_data, ObjectDetectorDataset\n",
    "from utils.head import input_reg, auxiliary_head, mlp_dual, LSTM_DE\n",
    "from torch.utils.data import Dataset, DataLoader\n",
    "import random\n",
    "\n",
    "device = torch.device('cuda:0')\n",
    "reg_camera_1 = input_reg().to(device)\n",
    "reg_camera_2 = input_reg().to(device)\n",
    "aux_head = auxiliary_head().to(device)\n",
    "\n",
    "reg_camera_1.load_state_dict(torch.load('models/head/reg_camera_1.pt'))\n",
    "reg_camera_2.load_state_dict(torch.load('models/head/reg_camera_2.pt'))\n",
    "aux_head.load_state_dict(torch.load('models/head/aux_head.pt'))\n",
    "\n",
    "reg_camera_1.eval()\n",
    "reg_camera_2.eval()\n",
    "aux_head.eval()"
   ]
  },
  {
   "cell_type": "code",
   "execution_count": 2,
   "id": "ee10d293",
   "metadata": {},
   "outputs": [
    {
     "name": "stdout",
     "output_type": "stream",
     "text": [
      "Data Statistic:\n",
      "            Camera 1:\n",
      "            Mean: [0.19101892411708832, 0.04624661058187485, 0.23863928020000458, 0.161183699965477]\n",
      "            Std : [0.24890540540218353, 0.2908424735069275, 0.25386908650398254, 0.2399858832359314]\n",
      "            \n",
      "            Camera 2:\n",
      "            Mean: [0.22113540768623352, 0.12611186504364014, 0.26530587673187256, 0.1844675987958908]\n",
      "            Std : [0.25682532787323, 0.42740118503570557, 0.2785913050174713, 0.2537324130535126]\n",
      "            \n",
      "Data Statistic:\n",
      "            Camera 1:\n",
      "            Mean: [0.17446725070476532, -0.012509922496974468, 0.19903448224067688, 0.12914852797985077]\n",
      "            Std : [0.2501801550388336, 0.3267986476421356, 0.2563011944293976, 0.2437313199043274]\n",
      "            \n",
      "            Camera 2:\n",
      "            Mean: [0.2224167436361313, 0.10093619674444199, 0.26754945516586304, 0.19287000596523285]\n",
      "            Std : [0.25625601410865784, 0.41074901819229126, 0.2785138487815857, 0.2622748017311096]\n",
      "            \n"
     ]
    }
   ],
   "source": [
    "norm_offset = [[20.7227, 271.4375,   9.0000,   5.5000], [5.3496, 248.5000,  10.1094,   4.5000]]\n",
    "norm_divider = [[1894.2773,  798.0625,  174.2500,   67.5000], [1908.6504,  396.5000,   99.8906,   42.5000]]\n",
    "\n",
    "train_data  = load_compiled_data(ts=[1,2,5],ws=[1],rs=[1,2], convert = True,  offset = norm_offset, divider = norm_divider, device = device)\n",
    "test_data = load_compiled_data(ts=[1,2,5],ws=[1],rs=[3], convert = True,  offset = norm_offset, divider = norm_divider, device = device)"
   ]
  },
  {
   "cell_type": "markdown",
   "id": "a074a4b6",
   "metadata": {},
   "source": [
    "# Dropout Training"
   ]
  },
  {
   "cell_type": "code",
   "execution_count": 3,
   "id": "113581a6",
   "metadata": {},
   "outputs": [],
   "source": [
    "sequential_de = LSTM_DE().cuda()\n",
    "sequential_de.train()\n",
    "tlosses_deep = []\n",
    "tlosses_shallow = []"
   ]
  },
  {
   "cell_type": "code",
   "execution_count": 4,
   "id": "9aa4c86d",
   "metadata": {},
   "outputs": [],
   "source": [
    "learning_rate = 1e-5\n",
    "criterion = nn.MSELoss()\n",
    "optimizer = torch.optim.Adam(sequential_de.parameters(), lr=learning_rate)"
   ]
  },
  {
   "cell_type": "code",
   "execution_count": 5,
   "id": "4684631d",
   "metadata": {},
   "outputs": [],
   "source": [
    "train_x = torch.stack((reg_camera_1(train_data['dual']['cam_1']['x']), reg_camera_2(train_data['dual']['cam_2']['x'])), dim = 1).detach()\n",
    "train_y = torch.stack((train_data['dual']['cam_1']['y'][:, 0], train_data['dual']['cam_2']['y'][:, 0]), dim = 1)\n",
    "\n",
    "test_2cam_x = torch.stack((reg_camera_1(test_data['dual']['cam_1']['x']), reg_camera_2(test_data['dual']['cam_2']['x'])), dim = 1)\n",
    "test_2cam_y = torch.stack((test_data['dual']['cam_1']['y'][:, 0], test_data['dual']['cam_2']['y'][:, 0]), dim = 1)\n",
    "test_1cam_x = torch.cat((reg_camera_1(test_data['single']['cam_1']['x']), reg_camera_2(test_data['single']['cam_2']['x']))).unsqueeze(1)\n",
    "test_1cam_y = torch.cat((test_data['single']['cam_1']['y'][:, 0], test_data['single']['cam_2']['y'][:, 0])).unsqueeze(1)"
   ]
  },
  {
   "cell_type": "code",
   "execution_count": 6,
   "id": "62067862",
   "metadata": {},
   "outputs": [
    {
     "name": "stdout",
     "output_type": "stream",
     "text": [
      "torch.Size([26676, 2, 256]) torch.Size([26676, 2])\n"
     ]
    }
   ],
   "source": [
    "od_dataset = ObjectDetectorDataset(train_x, train_y)\n",
    "od_dataloader = DataLoader(od_dataset, batch_size = 32, shuffle=True)"
   ]
  },
  {
   "cell_type": "code",
   "execution_count": 8,
   "id": "2df50a5e",
   "metadata": {},
   "outputs": [
    {
     "data": {
      "application/vnd.jupyter.widget-view+json": {
       "model_id": "380467a6dccc4c98b92f425f86ec3eff",
       "version_major": 2,
       "version_minor": 0
      },
      "text/plain": [
       "  0%|          | 3/16000 [00:09<10:12:45,  2.30s/it]"
      ]
     },
     "metadata": {},
     "output_type": "display_data"
    },
    {
     "name": "stdout",
     "output_type": "stream",
     "text": [
      "==========================\n",
      "Epoch 3\n",
      "Train Loss           : 8.535169399692677e-06\n",
      "\n",
      "Test Shallow Loss    : 3.159100378979929e-05\n",
      "Test Deep Loss       : 1.9246301235398278e-05\n",
      "\n",
      "Test Shallow MAPE    : 0.16%\n",
      "Test Deep MAPE       : 0.15%\n",
      "\n",
      "Test Shallow MAPE    : 0.16 nm\n",
      "Test Deep MAPE       : 0.09 nm\n",
      "==========================\n",
      "\n"
     ]
    },
    {
     "ename": "KeyboardInterrupt",
     "evalue": "",
     "output_type": "error",
     "traceback": [
      "\u001b[0;31m---------------------------------------------------------------------------\u001b[0m",
      "\u001b[0;31mKeyboardInterrupt\u001b[0m                         Traceback (most recent call last)",
      "Cell \u001b[0;32mIn[8], line 5\u001b[0m\n\u001b[1;32m      3\u001b[0m epochs \u001b[38;5;241m=\u001b[39m tqdm\u001b[38;5;241m.\u001b[39mtqdm(iterable\u001b[38;5;241m=\u001b[39m\u001b[38;5;28mrange\u001b[39m(\u001b[38;5;241m16000\u001b[39m), leave\u001b[38;5;241m=\u001b[39m\u001b[38;5;28;01mTrue\u001b[39;00m)\n\u001b[1;32m      4\u001b[0m \u001b[38;5;28;01mfor\u001b[39;00m epoch \u001b[38;5;129;01min\u001b[39;00m epochs:\n\u001b[0;32m----> 5\u001b[0m     \u001b[38;5;28;01mfor\u001b[39;00m train_minibatch_x, train_minibatch_y \u001b[38;5;129;01min\u001b[39;00m od_dataloader:\n\u001b[1;32m      6\u001b[0m         optimizer\u001b[38;5;241m.\u001b[39mzero_grad()\n\u001b[1;32m      8\u001b[0m         drop_choice \u001b[38;5;241m=\u001b[39m random\u001b[38;5;241m.\u001b[39mrandint(\u001b[38;5;241m0\u001b[39m,\u001b[38;5;241m3\u001b[39m)\n",
      "File \u001b[0;32m~/miniconda3/envs/ad/lib/python3.10/site-packages/torch/utils/data/dataloader.py:628\u001b[0m, in \u001b[0;36m_BaseDataLoaderIter.__next__\u001b[0;34m(self)\u001b[0m\n\u001b[1;32m    625\u001b[0m \u001b[38;5;28;01mif\u001b[39;00m \u001b[38;5;28mself\u001b[39m\u001b[38;5;241m.\u001b[39m_sampler_iter \u001b[38;5;129;01mis\u001b[39;00m \u001b[38;5;28;01mNone\u001b[39;00m:\n\u001b[1;32m    626\u001b[0m     \u001b[38;5;66;03m# TODO(https://github.com/pytorch/pytorch/issues/76750)\u001b[39;00m\n\u001b[1;32m    627\u001b[0m     \u001b[38;5;28mself\u001b[39m\u001b[38;5;241m.\u001b[39m_reset()  \u001b[38;5;66;03m# type: ignore[call-arg]\u001b[39;00m\n\u001b[0;32m--> 628\u001b[0m data \u001b[38;5;241m=\u001b[39m \u001b[38;5;28;43mself\u001b[39;49m\u001b[38;5;241;43m.\u001b[39;49m\u001b[43m_next_data\u001b[49m\u001b[43m(\u001b[49m\u001b[43m)\u001b[49m\n\u001b[1;32m    629\u001b[0m \u001b[38;5;28mself\u001b[39m\u001b[38;5;241m.\u001b[39m_num_yielded \u001b[38;5;241m+\u001b[39m\u001b[38;5;241m=\u001b[39m \u001b[38;5;241m1\u001b[39m\n\u001b[1;32m    630\u001b[0m \u001b[38;5;28;01mif\u001b[39;00m \u001b[38;5;28mself\u001b[39m\u001b[38;5;241m.\u001b[39m_dataset_kind \u001b[38;5;241m==\u001b[39m _DatasetKind\u001b[38;5;241m.\u001b[39mIterable \u001b[38;5;129;01mand\u001b[39;00m \\\n\u001b[1;32m    631\u001b[0m         \u001b[38;5;28mself\u001b[39m\u001b[38;5;241m.\u001b[39m_IterableDataset_len_called \u001b[38;5;129;01mis\u001b[39;00m \u001b[38;5;129;01mnot\u001b[39;00m \u001b[38;5;28;01mNone\u001b[39;00m \u001b[38;5;129;01mand\u001b[39;00m \\\n\u001b[1;32m    632\u001b[0m         \u001b[38;5;28mself\u001b[39m\u001b[38;5;241m.\u001b[39m_num_yielded \u001b[38;5;241m>\u001b[39m \u001b[38;5;28mself\u001b[39m\u001b[38;5;241m.\u001b[39m_IterableDataset_len_called:\n",
      "File \u001b[0;32m~/miniconda3/envs/ad/lib/python3.10/site-packages/torch/utils/data/dataloader.py:671\u001b[0m, in \u001b[0;36m_SingleProcessDataLoaderIter._next_data\u001b[0;34m(self)\u001b[0m\n\u001b[1;32m    669\u001b[0m \u001b[38;5;28;01mdef\u001b[39;00m \u001b[38;5;21m_next_data\u001b[39m(\u001b[38;5;28mself\u001b[39m):\n\u001b[1;32m    670\u001b[0m     index \u001b[38;5;241m=\u001b[39m \u001b[38;5;28mself\u001b[39m\u001b[38;5;241m.\u001b[39m_next_index()  \u001b[38;5;66;03m# may raise StopIteration\u001b[39;00m\n\u001b[0;32m--> 671\u001b[0m     data \u001b[38;5;241m=\u001b[39m \u001b[38;5;28;43mself\u001b[39;49m\u001b[38;5;241;43m.\u001b[39;49m\u001b[43m_dataset_fetcher\u001b[49m\u001b[38;5;241;43m.\u001b[39;49m\u001b[43mfetch\u001b[49m\u001b[43m(\u001b[49m\u001b[43mindex\u001b[49m\u001b[43m)\u001b[49m  \u001b[38;5;66;03m# may raise StopIteration\u001b[39;00m\n\u001b[1;32m    672\u001b[0m     \u001b[38;5;28;01mif\u001b[39;00m \u001b[38;5;28mself\u001b[39m\u001b[38;5;241m.\u001b[39m_pin_memory:\n\u001b[1;32m    673\u001b[0m         data \u001b[38;5;241m=\u001b[39m _utils\u001b[38;5;241m.\u001b[39mpin_memory\u001b[38;5;241m.\u001b[39mpin_memory(data, \u001b[38;5;28mself\u001b[39m\u001b[38;5;241m.\u001b[39m_pin_memory_device)\n",
      "File \u001b[0;32m~/miniconda3/envs/ad/lib/python3.10/site-packages/torch/utils/data/_utils/fetch.py:58\u001b[0m, in \u001b[0;36m_MapDatasetFetcher.fetch\u001b[0;34m(self, possibly_batched_index)\u001b[0m\n\u001b[1;32m     56\u001b[0m         data \u001b[38;5;241m=\u001b[39m \u001b[38;5;28mself\u001b[39m\u001b[38;5;241m.\u001b[39mdataset\u001b[38;5;241m.\u001b[39m__getitems__(possibly_batched_index)\n\u001b[1;32m     57\u001b[0m     \u001b[38;5;28;01melse\u001b[39;00m:\n\u001b[0;32m---> 58\u001b[0m         data \u001b[38;5;241m=\u001b[39m [\u001b[38;5;28mself\u001b[39m\u001b[38;5;241m.\u001b[39mdataset[idx] \u001b[38;5;28;01mfor\u001b[39;00m idx \u001b[38;5;129;01min\u001b[39;00m possibly_batched_index]\n\u001b[1;32m     59\u001b[0m \u001b[38;5;28;01melse\u001b[39;00m:\n\u001b[1;32m     60\u001b[0m     data \u001b[38;5;241m=\u001b[39m \u001b[38;5;28mself\u001b[39m\u001b[38;5;241m.\u001b[39mdataset[possibly_batched_index]\n",
      "File \u001b[0;32m~/miniconda3/envs/ad/lib/python3.10/site-packages/torch/utils/data/_utils/fetch.py:58\u001b[0m, in \u001b[0;36m<listcomp>\u001b[0;34m(.0)\u001b[0m\n\u001b[1;32m     56\u001b[0m         data \u001b[38;5;241m=\u001b[39m \u001b[38;5;28mself\u001b[39m\u001b[38;5;241m.\u001b[39mdataset\u001b[38;5;241m.\u001b[39m__getitems__(possibly_batched_index)\n\u001b[1;32m     57\u001b[0m     \u001b[38;5;28;01melse\u001b[39;00m:\n\u001b[0;32m---> 58\u001b[0m         data \u001b[38;5;241m=\u001b[39m [\u001b[38;5;28mself\u001b[39m\u001b[38;5;241m.\u001b[39mdataset[idx] \u001b[38;5;28;01mfor\u001b[39;00m idx \u001b[38;5;129;01min\u001b[39;00m possibly_batched_index]\n\u001b[1;32m     59\u001b[0m \u001b[38;5;28;01melse\u001b[39;00m:\n\u001b[1;32m     60\u001b[0m     data \u001b[38;5;241m=\u001b[39m \u001b[38;5;28mself\u001b[39m\u001b[38;5;241m.\u001b[39mdataset[possibly_batched_index]\n",
      "\u001b[0;31mKeyboardInterrupt\u001b[0m: "
     ]
    }
   ],
   "source": [
    "# Deep 2 Camera Training\n",
    "sequential_de.train()\n",
    "epochs = tqdm.tqdm(iterable=range(16000), leave=True)\n",
    "for epoch in epochs:\n",
    "    for train_minibatch_x, train_minibatch_y in od_dataloader:\n",
    "        optimizer.zero_grad()\n",
    "        \n",
    "        drop_choice = random.randint(0,3)\n",
    "        \n",
    "        if drop_choice == 0:\n",
    "            train_minibatch_x = train_minibatch_x[:, 0:1, :]\n",
    "        elif drop_choice == 1:\n",
    "            train_minibatch_x = train_minibatch_x[:, 1:, :]\n",
    "        else:\n",
    "            pass\n",
    "        \n",
    "        ypred = sequential_de(train_minibatch_x)[:, -1].squeeze()\n",
    "        loss = criterion(ypred, train_minibatch_y[:, 0]) * 10\n",
    "        loss.backward()\n",
    "        optimizer.step()\n",
    "        \n",
    "    if epoch % 1 == 0:\n",
    "        sequential_de.eval()\n",
    "        ypred_shallow = sequential_de(test_1cam_x).squeeze()\n",
    "        tloss_shallow = criterion(ypred_shallow, test_1cam_y[:, 0]) * 10\n",
    "        ypred_deep = sequential_de(test_2cam_x).squeeze()[:, 1]\n",
    "        tloss_deep = criterion(ypred_deep, test_2cam_y[:, 1]) * 10\n",
    "\n",
    "        test_deep_mape = ((abs(ypred_deep-test_2cam_y[:, 1])/ypred_deep).mean() * 100).item()\n",
    "        test_shallow_mape = ((abs(ypred_shallow-test_1cam_y[:, 0])/ypred_shallow).mean() * 100).item()\n",
    "        \n",
    "        test_deep_e_max = (abs(ypred_deep-test_2cam_y[:, 1])).max() * 10\n",
    "        test_shallow_e_max = (abs(ypred_shallow-test_1cam_y[:, 0])).max() * 10\n",
    "        \n",
    "        display.clear_output(wait=True)\n",
    "        display.display(epochs.container)\n",
    "        print(\"==========================\\nEpoch {}\".format(epoch))\n",
    "        print(f'Train Loss           : {loss.item()}\\n')\n",
    "\n",
    "        print(f'Test Shallow Loss    : {tloss_shallow.item()}')\n",
    "        print(f'Test Deep Loss       : {tloss_deep.item()}\\n')\n",
    "\n",
    "        print(f'Test Shallow MAPE    : {test_shallow_mape:.2f}%')\n",
    "        print(f'Test Deep MAPE       : {test_deep_mape:.2f}%\\n')\n",
    "        \n",
    "        print(f'Test Shallow MAPE    : {test_shallow_e_max:.2f} nm')\n",
    "        print(f'Test Deep MAPE       : {test_deep_e_max:.2f} nm')\n",
    "    \n",
    "\n",
    "        print(\"==========================\\n\")\n",
    "\n",
    "        tlosses_deep.append(test_deep_mape)\n",
    "        tlosses_shallow.append(test_shallow_mape)\n",
    "        sequential_de.train()"
   ]
  },
  {
   "cell_type": "code",
   "execution_count": 9,
   "id": "b6285836",
   "metadata": {},
   "outputs": [],
   "source": [
    "torch.save(sequential_de.state_dict(), 'models/head/sequential_de_random_training.pt')"
   ]
  },
  {
   "cell_type": "code",
   "execution_count": 7,
   "id": "d682c858",
   "metadata": {},
   "outputs": [
    {
     "data": {
      "text/plain": [
       "<All keys matched successfully>"
      ]
     },
     "execution_count": 7,
     "metadata": {},
     "output_type": "execute_result"
    }
   ],
   "source": [
    "sequential_de.load_state_dict(torch.load('models/head/sequential_de_random_training.pt'))"
   ]
  },
  {
   "cell_type": "markdown",
   "id": "1aa2967c",
   "metadata": {},
   "source": [
    "# Old OD"
   ]
  },
  {
   "cell_type": "code",
   "execution_count": 16,
   "id": "ac8442cd",
   "metadata": {},
   "outputs": [
    {
     "name": "stdout",
     "output_type": "stream",
     "text": [
      "Data Statistic:\n",
      "          Camera 1:\n",
      "          Mean: [0.19101892411708832, 0.04624661058187485, 0.23863928020000458, 0.161183699965477]\n",
      "          Std : [0.24890540540218353, 0.2908424735069275, 0.25386908650398254, 0.2399858832359314]\n",
      "          \n",
      "          Camera 2:\n",
      "          Mean: [0.22113540768623352, 0.12611186504364014, 0.26530587673187256, 0.1844675987958908]\n",
      "          Std : [0.25682532787323, 0.42740118503570557, 0.2785913050174713, 0.2537324130535126]\n",
      "          \n",
      "Data Statistic:\n",
      "          Camera 1:\n",
      "          Mean: [0.17446725070476532, -0.012509922496974468, 0.19903448224067688, 0.12914852797985077]\n",
      "          Std : [0.2501801550388336, 0.3267986476421356, 0.2563011944293976, 0.2437313199043274]\n",
      "          \n",
      "          Camera 2:\n",
      "          Mean: [0.2224167436361313, 0.10093619674444199, 0.26754945516586304, 0.19287000596523285]\n",
      "          Std : [0.25625601410865784, 0.41074901819229126, 0.2785138487815857, 0.2622748017311096]\n",
      "          \n"
     ]
    }
   ],
   "source": [
    "norm_offset = [[20.7227, 271.4375,   9.0000,   5.5000], [5.3496, 248.5000,  10.1094,   4.5000]]\n",
    "norm_divider = [[1894.2773,  798.0625,  174.2500,   67.5000], [1908.6504,  396.5000,   99.8906,   42.5000]]\n",
    "train_data = load_compiled_data(ts=[1,2,5],ws=[1],rs=[1,2], offset = norm_offset, divider = norm_divider, device = device)\n",
    "test_test = load_compiled_data(ts=[1,2,5],ws=[1],rs=[3], offset = norm_offset, divider = norm_divider, device = device)"
   ]
  },
  {
   "cell_type": "code",
   "execution_count": 36,
   "id": "3b74dc22",
   "metadata": {},
   "outputs": [],
   "source": [
    "train_x = torch.cat((train_data['dual']['cam_1']['x'], train_data['dual']['cam_2']['x']), dim = 1).detach()\n",
    "train_y = train_data['dual']['cam_1']['y'][:, 0]\n",
    "\n",
    "test_2cam_x = torch.cat((test_data['dual']['cam_1']['x'], test_data['dual']['cam_2']['x']), dim = 1)\n",
    "test_2cam_y = test_data['dual']['cam_1']['y'][:, 0]"
   ]
  },
  {
   "cell_type": "code",
   "execution_count": 31,
   "id": "bfb830f4",
   "metadata": {},
   "outputs": [],
   "source": [
    "model = mlp_dual().cuda()"
   ]
  },
  {
   "cell_type": "code",
   "execution_count": 32,
   "id": "308c8fbd",
   "metadata": {},
   "outputs": [],
   "source": [
    "learning_rate = 1e-4\n",
    "criterion = nn.MSELoss()\n",
    "optimizer = torch.optim.SGD(model.parameters(), lr=learning_rate)"
   ]
  },
  {
   "cell_type": "code",
   "execution_count": 41,
   "id": "79112b6f",
   "metadata": {},
   "outputs": [
    {
     "name": "stdout",
     "output_type": "stream",
     "text": [
      "==========================\n",
      "Epoch 500\n",
      "Train Deep Loss      : 38.06881332397461\n",
      "Test Deep Loss       : 36.15445327758789\n",
      "Test Deep MAPE       : inf%\n",
      "==========================\n",
      "\n"
     ]
    },
    {
     "ename": "KeyboardInterrupt",
     "evalue": "",
     "output_type": "error",
     "traceback": [
      "\u001b[0;31m---------------------------------------------------------------------------\u001b[0m",
      "\u001b[0;31mKeyboardInterrupt\u001b[0m                         Traceback (most recent call last)",
      "Input \u001b[0;32mIn [41]\u001b[0m, in \u001b[0;36m<cell line: 6>\u001b[0;34m()\u001b[0m\n\u001b[1;32m      7\u001b[0m optimizer\u001b[38;5;241m.\u001b[39mzero_grad()\n\u001b[1;32m      8\u001b[0m \u001b[38;5;66;03m# camera_1\u001b[39;00m\n\u001b[0;32m----> 9\u001b[0m ypred \u001b[38;5;241m=\u001b[39m \u001b[43mmodel\u001b[49m\u001b[43m(\u001b[49m\u001b[43mtrain_x\u001b[49m\u001b[43m)\u001b[49m\u001b[38;5;241m.\u001b[39msqueeze()\n\u001b[1;32m     10\u001b[0m loss \u001b[38;5;241m=\u001b[39m criterion(ypred, train_y) \u001b[38;5;241m*\u001b[39m \u001b[38;5;241m100\u001b[39m\n\u001b[1;32m     11\u001b[0m loss\u001b[38;5;241m.\u001b[39mbackward()\n",
      "File \u001b[0;32m~/miniconda3/envs/ad/lib/python3.10/site-packages/torch/nn/modules/module.py:1190\u001b[0m, in \u001b[0;36mModule._call_impl\u001b[0;34m(self, *input, **kwargs)\u001b[0m\n\u001b[1;32m   1186\u001b[0m \u001b[38;5;66;03m# If we don't have any hooks, we want to skip the rest of the logic in\u001b[39;00m\n\u001b[1;32m   1187\u001b[0m \u001b[38;5;66;03m# this function, and just call forward.\u001b[39;00m\n\u001b[1;32m   1188\u001b[0m \u001b[38;5;28;01mif\u001b[39;00m \u001b[38;5;129;01mnot\u001b[39;00m (\u001b[38;5;28mself\u001b[39m\u001b[38;5;241m.\u001b[39m_backward_hooks \u001b[38;5;129;01mor\u001b[39;00m \u001b[38;5;28mself\u001b[39m\u001b[38;5;241m.\u001b[39m_forward_hooks \u001b[38;5;129;01mor\u001b[39;00m \u001b[38;5;28mself\u001b[39m\u001b[38;5;241m.\u001b[39m_forward_pre_hooks \u001b[38;5;129;01mor\u001b[39;00m _global_backward_hooks\n\u001b[1;32m   1189\u001b[0m         \u001b[38;5;129;01mor\u001b[39;00m _global_forward_hooks \u001b[38;5;129;01mor\u001b[39;00m _global_forward_pre_hooks):\n\u001b[0;32m-> 1190\u001b[0m     \u001b[38;5;28;01mreturn\u001b[39;00m \u001b[43mforward_call\u001b[49m\u001b[43m(\u001b[49m\u001b[38;5;241;43m*\u001b[39;49m\u001b[38;5;28;43minput\u001b[39;49m\u001b[43m,\u001b[49m\u001b[43m \u001b[49m\u001b[38;5;241;43m*\u001b[39;49m\u001b[38;5;241;43m*\u001b[39;49m\u001b[43mkwargs\u001b[49m\u001b[43m)\u001b[49m\n\u001b[1;32m   1191\u001b[0m \u001b[38;5;66;03m# Do not call functions when jit is used\u001b[39;00m\n\u001b[1;32m   1192\u001b[0m full_backward_hooks, non_full_backward_hooks \u001b[38;5;241m=\u001b[39m [], []\n",
      "File \u001b[0;32m~/aircraft-detection/utils/head.py:82\u001b[0m, in \u001b[0;36mmlp_dual.forward\u001b[0;34m(self, x)\u001b[0m\n\u001b[1;32m     81\u001b[0m \u001b[38;5;28;01mdef\u001b[39;00m \u001b[38;5;21mforward\u001b[39m(\u001b[38;5;28mself\u001b[39m, x):\n\u001b[0;32m---> 82\u001b[0m     \u001b[38;5;28;01mreturn\u001b[39;00m \u001b[38;5;28;43mself\u001b[39;49m\u001b[38;5;241;43m.\u001b[39;49m\u001b[43mfc\u001b[49m\u001b[43m(\u001b[49m\u001b[43mx\u001b[49m\u001b[43m)\u001b[49m\n",
      "File \u001b[0;32m~/miniconda3/envs/ad/lib/python3.10/site-packages/torch/nn/modules/module.py:1190\u001b[0m, in \u001b[0;36mModule._call_impl\u001b[0;34m(self, *input, **kwargs)\u001b[0m\n\u001b[1;32m   1186\u001b[0m \u001b[38;5;66;03m# If we don't have any hooks, we want to skip the rest of the logic in\u001b[39;00m\n\u001b[1;32m   1187\u001b[0m \u001b[38;5;66;03m# this function, and just call forward.\u001b[39;00m\n\u001b[1;32m   1188\u001b[0m \u001b[38;5;28;01mif\u001b[39;00m \u001b[38;5;129;01mnot\u001b[39;00m (\u001b[38;5;28mself\u001b[39m\u001b[38;5;241m.\u001b[39m_backward_hooks \u001b[38;5;129;01mor\u001b[39;00m \u001b[38;5;28mself\u001b[39m\u001b[38;5;241m.\u001b[39m_forward_hooks \u001b[38;5;129;01mor\u001b[39;00m \u001b[38;5;28mself\u001b[39m\u001b[38;5;241m.\u001b[39m_forward_pre_hooks \u001b[38;5;129;01mor\u001b[39;00m _global_backward_hooks\n\u001b[1;32m   1189\u001b[0m         \u001b[38;5;129;01mor\u001b[39;00m _global_forward_hooks \u001b[38;5;129;01mor\u001b[39;00m _global_forward_pre_hooks):\n\u001b[0;32m-> 1190\u001b[0m     \u001b[38;5;28;01mreturn\u001b[39;00m \u001b[43mforward_call\u001b[49m\u001b[43m(\u001b[49m\u001b[38;5;241;43m*\u001b[39;49m\u001b[38;5;28;43minput\u001b[39;49m\u001b[43m,\u001b[49m\u001b[43m \u001b[49m\u001b[38;5;241;43m*\u001b[39;49m\u001b[38;5;241;43m*\u001b[39;49m\u001b[43mkwargs\u001b[49m\u001b[43m)\u001b[49m\n\u001b[1;32m   1191\u001b[0m \u001b[38;5;66;03m# Do not call functions when jit is used\u001b[39;00m\n\u001b[1;32m   1192\u001b[0m full_backward_hooks, non_full_backward_hooks \u001b[38;5;241m=\u001b[39m [], []\n",
      "File \u001b[0;32m~/miniconda3/envs/ad/lib/python3.10/site-packages/torch/nn/modules/container.py:204\u001b[0m, in \u001b[0;36mSequential.forward\u001b[0;34m(self, input)\u001b[0m\n\u001b[1;32m    202\u001b[0m \u001b[38;5;28;01mdef\u001b[39;00m \u001b[38;5;21mforward\u001b[39m(\u001b[38;5;28mself\u001b[39m, \u001b[38;5;28minput\u001b[39m):\n\u001b[1;32m    203\u001b[0m     \u001b[38;5;28;01mfor\u001b[39;00m module \u001b[38;5;129;01min\u001b[39;00m \u001b[38;5;28mself\u001b[39m:\n\u001b[0;32m--> 204\u001b[0m         \u001b[38;5;28minput\u001b[39m \u001b[38;5;241m=\u001b[39m \u001b[43mmodule\u001b[49m\u001b[43m(\u001b[49m\u001b[38;5;28;43minput\u001b[39;49m\u001b[43m)\u001b[49m\n\u001b[1;32m    205\u001b[0m     \u001b[38;5;28;01mreturn\u001b[39;00m \u001b[38;5;28minput\u001b[39m\n",
      "File \u001b[0;32m~/miniconda3/envs/ad/lib/python3.10/site-packages/torch/nn/modules/module.py:1190\u001b[0m, in \u001b[0;36mModule._call_impl\u001b[0;34m(self, *input, **kwargs)\u001b[0m\n\u001b[1;32m   1186\u001b[0m \u001b[38;5;66;03m# If we don't have any hooks, we want to skip the rest of the logic in\u001b[39;00m\n\u001b[1;32m   1187\u001b[0m \u001b[38;5;66;03m# this function, and just call forward.\u001b[39;00m\n\u001b[1;32m   1188\u001b[0m \u001b[38;5;28;01mif\u001b[39;00m \u001b[38;5;129;01mnot\u001b[39;00m (\u001b[38;5;28mself\u001b[39m\u001b[38;5;241m.\u001b[39m_backward_hooks \u001b[38;5;129;01mor\u001b[39;00m \u001b[38;5;28mself\u001b[39m\u001b[38;5;241m.\u001b[39m_forward_hooks \u001b[38;5;129;01mor\u001b[39;00m \u001b[38;5;28mself\u001b[39m\u001b[38;5;241m.\u001b[39m_forward_pre_hooks \u001b[38;5;129;01mor\u001b[39;00m _global_backward_hooks\n\u001b[1;32m   1189\u001b[0m         \u001b[38;5;129;01mor\u001b[39;00m _global_forward_hooks \u001b[38;5;129;01mor\u001b[39;00m _global_forward_pre_hooks):\n\u001b[0;32m-> 1190\u001b[0m     \u001b[38;5;28;01mreturn\u001b[39;00m \u001b[43mforward_call\u001b[49m\u001b[43m(\u001b[49m\u001b[38;5;241;43m*\u001b[39;49m\u001b[38;5;28;43minput\u001b[39;49m\u001b[43m,\u001b[49m\u001b[43m \u001b[49m\u001b[38;5;241;43m*\u001b[39;49m\u001b[38;5;241;43m*\u001b[39;49m\u001b[43mkwargs\u001b[49m\u001b[43m)\u001b[49m\n\u001b[1;32m   1191\u001b[0m \u001b[38;5;66;03m# Do not call functions when jit is used\u001b[39;00m\n\u001b[1;32m   1192\u001b[0m full_backward_hooks, non_full_backward_hooks \u001b[38;5;241m=\u001b[39m [], []\n",
      "File \u001b[0;32m~/miniconda3/envs/ad/lib/python3.10/site-packages/torch/nn/modules/linear.py:114\u001b[0m, in \u001b[0;36mLinear.forward\u001b[0;34m(self, input)\u001b[0m\n\u001b[1;32m    113\u001b[0m \u001b[38;5;28;01mdef\u001b[39;00m \u001b[38;5;21mforward\u001b[39m(\u001b[38;5;28mself\u001b[39m, \u001b[38;5;28minput\u001b[39m: Tensor) \u001b[38;5;241m-\u001b[39m\u001b[38;5;241m>\u001b[39m Tensor:\n\u001b[0;32m--> 114\u001b[0m     \u001b[38;5;28;01mreturn\u001b[39;00m \u001b[43mF\u001b[49m\u001b[38;5;241;43m.\u001b[39;49m\u001b[43mlinear\u001b[49m\u001b[43m(\u001b[49m\u001b[38;5;28;43minput\u001b[39;49m\u001b[43m,\u001b[49m\u001b[43m \u001b[49m\u001b[38;5;28;43mself\u001b[39;49m\u001b[38;5;241;43m.\u001b[39;49m\u001b[43mweight\u001b[49m\u001b[43m,\u001b[49m\u001b[43m \u001b[49m\u001b[38;5;28;43mself\u001b[39;49m\u001b[38;5;241;43m.\u001b[39;49m\u001b[43mbias\u001b[49m\u001b[43m)\u001b[49m\n",
      "\u001b[0;31mKeyboardInterrupt\u001b[0m: "
     ]
    }
   ],
   "source": [
    "# old od training\n",
    "sequential_de.train()\n",
    "losses = []\n",
    "tlosses = []\n",
    "epochs = tqdm.tqdm(iterable=range(700000), leave=True)\n",
    "for epoch in epochs:\n",
    "    optimizer.zero_grad()\n",
    "    # camera_1\n",
    "    ypred = model(train_x).squeeze()\n",
    "    loss = criterion(ypred, train_y) * 100\n",
    "    loss.backward()\n",
    "    optimizer.step()\n",
    "\n",
    "    if epoch % 500 == 0:\n",
    "        sequential_de.eval()\n",
    "        ypred = model(test_2cam_x).squeeze()\n",
    "        tloss = criterion(ypred, test_2cam_y) * 100\n",
    "        \n",
    "        display.clear_output(wait=True)\n",
    "        #display.display(epochs.container)\n",
    "        print(\"==========================\\nEpoch {}\".format(epoch))\n",
    "        print(f'Train Deep Loss      : {loss.item()}')\n",
    "        print(f'Test Deep Loss       : {tloss.item()}')\n",
    "        print(f'Test Deep MAPE       : {((abs(ypred-test_2cam_y)/ypred).mean() * 100).item():.2f}%')\n",
    "        \n",
    "        print(\"==========================\\n\")\n",
    "        #losses.append([loss.item()])\n",
    "        #tlosses.append([tloss.item()])\n",
    "        sequential_de.train()"
   ]
  },
  {
   "cell_type": "code",
   "execution_count": null,
   "id": "d7c3f0e4",
   "metadata": {},
   "outputs": [],
   "source": []
  }
 ],
 "metadata": {
  "kernelspec": {
   "display_name": "ad",
   "language": "python",
   "name": "ad"
  },
  "language_info": {
   "codemirror_mode": {
    "name": "ipython",
    "version": 3
   },
   "file_extension": ".py",
   "mimetype": "text/x-python",
   "name": "python",
   "nbconvert_exporter": "python",
   "pygments_lexer": "ipython3",
   "version": "3.10.6"
  }
 },
 "nbformat": 4,
 "nbformat_minor": 5
}
