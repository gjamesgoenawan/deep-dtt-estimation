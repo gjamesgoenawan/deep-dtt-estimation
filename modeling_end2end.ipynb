{
 "cells": [
  {
   "cell_type": "code",
   "execution_count": 1,
   "id": "e7e2c1b1",
   "metadata": {},
   "outputs": [],
   "source": [
    "import tqdm as tqdm\n",
    "import torch\n",
    "import numpy\n",
    "import pickle as pkl\n",
    "from utils.head import end2end\n",
    "from utils.dataset import load_compiled_data, aircraft_camera_data\n",
    "from torch.utils.data import DataLoader\n",
    "import torch.nn as nn\n",
    "\n",
    "from utils.head import *\n",
    "device = torch.device('cuda:0')"
   ]
  },
  {
   "cell_type": "code",
   "execution_count": 2,
   "id": "501b0ee5",
   "metadata": {},
   "outputs": [],
   "source": [
    "t = 3 # Time - 5\n",
    "w = 1 # Weather - 5\n",
    "r = 1 # Runs - 3\n",
    "\n",
    "data_indexes = [1,2] # Camera 1 & 2\n",
    "touchdown_target_lat_lon = [1.3541354199301814, 103.97961848373048] # WSSS 02L Runway\n",
    "dataset_directory = \"/media/gabriel/DATA/dataset\"\n",
    "data_sources = [[f'{dataset_directory}/t{t}/r{r}/w{w}/{data_index}/data.pkl', f'{dataset_directory}/t{t}/r{r}/w{w}/{data_index}/video.avi'] for data_index in data_indexes]\n",
    "\n",
    "# Dataset Class Initialization\n",
    "acd = aircraft_camera_data(data_sources = data_sources, touchdown_target_lat_lon = touchdown_target_lat_lon)"
   ]
  },
  {
   "cell_type": "code",
   "execution_count": 3,
   "id": "d9c45a09",
   "metadata": {},
   "outputs": [],
   "source": [
    "n = 4500"
   ]
  },
  {
   "cell_type": "code",
   "execution_count": 4,
   "id": "3f74fb26",
   "metadata": {},
   "outputs": [],
   "source": [
    "img = acd.get_frame_from_video(n, size = (1280, 1920), batch_size = 1).cuda()"
   ]
  },
  {
   "cell_type": "code",
   "execution_count": 5,
   "id": "89b00467",
   "metadata": {},
   "outputs": [
    {
     "name": "stdout",
     "output_type": "stream",
     "text": [
      "Input_Reg Aux DE Loaded\n"
     ]
    }
   ],
   "source": [
    "offset = [[19.75390625, 248.5, 9.0, 5.5], [5.056640625, 248.5, 10.109375, 4.5]]\n",
    "divider = [[1895.24609375, 395.75, 175.25, 151.0],[1909.443359375, 396.5, 172.640625, 83.5]]\n",
    "model = end2end('models/config/model_m_m.yaml', model_state_dict='models/head/big_dataset/kaiming_3/m_m.pt', offset = offset, divider = divider, device = device)"
   ]
  },
  {
   "cell_type": "code",
   "execution_count": 11,
   "id": "3718d2ab",
   "metadata": {},
   "outputs": [
    {
     "name": "stdout",
     "output_type": "stream",
     "text": [
      "AutoSegmentation : 25.66 ms\n",
      "Final Inference  : 4.93 ms\n",
      "Post Processing  : 0.45 ms\n",
      "Total Time       : 31.03 ms\n"
     ]
    },
    {
     "data": {
      "text/plain": [
       "tensor(0.3090, device='cuda:0')"
      ]
     },
     "execution_count": 11,
     "metadata": {},
     "output_type": "execute_result"
    }
   ],
   "source": [
    "model.single_infer(img)"
   ]
  },
  {
   "cell_type": "code",
   "execution_count": 7,
   "id": "200ad2a6",
   "metadata": {},
   "outputs": [
    {
     "data": {
      "text/plain": [
       "3.0876260585464634"
      ]
     },
     "execution_count": 7,
     "metadata": {},
     "output_type": "execute_result"
    }
   ],
   "source": [
    "acd.get_current_dtt(n)"
   ]
  },
  {
   "cell_type": "code",
   "execution_count": 12,
   "id": "67b911d3",
   "metadata": {},
   "outputs": [],
   "source": [
    "with open(f'output/distance_estimator/kaiming_big_dataset_as.pkl', 'rb') as f:\n",
    "    output_dict, time_dict = pkl.load(f)"
   ]
  },
  {
   "cell_type": "code",
   "execution_count": 13,
   "id": "037e9094",
   "metadata": {},
   "outputs": [
    {
     "ename": "SyntaxError",
     "evalue": "invalid character '“' (U+201C) (2442112310.py, line 1)",
     "output_type": "error",
     "traceback": [
      "\u001b[0;36m  Cell \u001b[0;32mIn[13], line 1\u001b[0;36m\u001b[0m\n\u001b[0;31m    output_dict[“m_m”]\u001b[0m\n\u001b[0m                ^\u001b[0m\n\u001b[0;31mSyntaxError\u001b[0m\u001b[0;31m:\u001b[0m invalid character '“' (U+201C)\n"
     ]
    }
   ],
   "source": [
    "\n"
   ]
  },
  {
   "cell_type": "code",
   "execution_count": null,
   "id": "b1630acd",
   "metadata": {},
   "outputs": [],
   "source": []
  }
 ],
 "metadata": {
  "kernelspec": {
   "display_name": "ad",
   "language": "python",
   "name": "ad"
  },
  "language_info": {
   "codemirror_mode": {
    "name": "ipython",
    "version": 3
   },
   "file_extension": ".py",
   "mimetype": "text/x-python",
   "name": "python",
   "nbconvert_exporter": "python",
   "pygments_lexer": "ipython3",
   "version": "3.10.6"
  }
 },
 "nbformat": 4,
 "nbformat_minor": 5
}
