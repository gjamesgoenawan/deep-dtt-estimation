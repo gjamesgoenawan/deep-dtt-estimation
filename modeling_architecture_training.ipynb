{
 "cells": [
  {
   "cell_type": "markdown",
   "id": "b742ae0c",
   "metadata": {},
   "source": [
    "# Model Training\n",
    "\n",
    "This Notebook aims to demonstrate the training of the Distance Estimator model. \n",
    "<br> We're assuming that the the data that has been processed by the `Object Detector` is available and only **2 cameras** are present.\n",
    "\n",
    "All trainings are done on a single RTX 3080 GPU."
   ]
  },
  {
   "cell_type": "code",
   "execution_count": 1,
   "id": "e7b5b650",
   "metadata": {},
   "outputs": [
    {
     "name": "stdout",
     "output_type": "stream",
     "text": [
      "GPU 0: NVIDIA GeForce RTX 3080 (UUID: GPU-58d4b761-7fa1-8927-84ca-6f49200bea8f)\r\n"
     ]
    }
   ],
   "source": [
    "!nvidia-smi - L"
   ]
  },
  {
   "cell_type": "code",
   "execution_count": 2,
   "id": "d4fce3dd",
   "metadata": {},
   "outputs": [],
   "source": [
    "import torch.nn as nn\n",
    "import torch\n",
    "import tqdm.notebook as tqdm\n",
    "import numpy as np\n",
    "from IPython import display\n",
    "import matplotlib.pyplot as plt\n",
    "import pickle as pkl\n",
    "from utils.dataset import load_compiled_data\n",
    "\n",
    "device = torch.device('cuda:0')"
   ]
  },
  {
   "cell_type": "markdown",
   "id": "53367bf6",
   "metadata": {},
   "source": [
    "# Data Cleaning & Preparation\n",
    "First all data should be loaded to determine the appropriate `offset`, `divider`, and `trajectory_threshold` values for regularization & false detection removal.\n",
    "<br> `trajectory_threshold` should be initialized as inifinte to include all detections first. Setting `verbose` to `True` will automatically prints the required data statistics for us."
   ]
  },
  {
   "cell_type": "code",
   "execution_count": 3,
   "id": "01f3a1fb",
   "metadata": {
    "scrolled": true
   },
   "outputs": [
    {
     "name": "stdout",
     "output_type": "stream",
     "text": [
      "Data Statistic:\n",
      "\n",
      "Camera 1:\n",
      "    Mean    : [600.48486328125, 436.3863830566406, 72.93046569824219, 23.664390563964844]\n",
      "    Std     : [500.19091796875, 203.197509765625, 37.9368782043457, 15.371478080749512]\n",
      "    Min     : [19.75390625, 248.5, 9.0, 5.5]\n",
      "    Min-Max : [1895.24609375, 821.0, 175.25, 151.0]\n",
      "            \n",
      "Camera 2:\n",
      "    Mean    : [625.6908569335938, 378.75115966796875, 50.866493225097656, 17.528425216674805]\n",
      "    Std     : [503.7662048339844, 74.76707458496094, 23.99972152709961, 10.289787292480469]\n",
      "    Min     : [5.056640625, 248.5, 10.109375, 4.5]\n",
      "    Min-Max : [1909.443359375, 708.5, 172.640625, 83.5]\n",
      "    \n"
     ]
    }
   ],
   "source": [
    "all_data = load_compiled_data(ts=[1, 2, 3, 4, 5], ws=[1, 2, 3, 4, 5], rs=[\n",
    "                              1, 2, 3], verbose=True, trajectory_threshold=[np.inf, np.inf])"
   ]
  },
  {
   "cell_type": "code",
   "execution_count": 4,
   "id": "c6f2b3e1",
   "metadata": {},
   "outputs": [
    {
     "data": {
      "text/plain": [
       "<matplotlib.collections.PathCollection at 0x7f72280936d0>"
      ]
     },
     "execution_count": 4,
     "metadata": {},
     "output_type": "execute_result"
    },
    {
     "data": {
      "image/png": "[encoded data removed]",
      "text/plain": [
       "<Figure size 720x360 with 2 Axes>"
      ]
     },
     "metadata": {
      "needs_background": "light"
     },
     "output_type": "display_data"
    }
   ],
   "source": [
    "# plot Box Centroid Y against plane distance\n",
    "fig, ax = plt.subplots(1, 2, figsize=(10, 5))\n",
    "ax[0].set_title(\"Camera 1\")\n",
    "ax[0].set_xlabel(\"Prediction Box Height\")\n",
    "ax[0].set_ylabel(\"Aircraft Distance\")\n",
    "ax[0].scatter(all_data['single']['cam_1']['x'][:, 1].numpy(),\n",
    "              all_data['single']['cam_1']['y'][:, 0].numpy(), s=1)\n",
    "\n",
    "ax[1].set_title(\"Camera 2\")\n",
    "ax[1].set_xlabel(\"Prediction Box Centroid Height\")\n",
    "ax[1].set_ylabel(\"Aircraft Distance\")\n",
    "ax[1].scatter(all_data['single']['cam_2']['x'][:, 1].numpy(),\n",
    "              all_data['single']['cam_2']['y'][:, 0].numpy(), s=1)"
   ]
  },
  {
   "cell_type": "markdown",
   "id": "fab4706a",
   "metadata": {},
   "source": [
    "From the plot above, it can be determined that true detections is below 800 for camera 1, and below 700 for camera 2."
   ]
  },
  {
   "cell_type": "code",
   "execution_count": 5,
   "id": "6f44a148",
   "metadata": {},
   "outputs": [],
   "source": [
    "# hence trajectory threshold can be determined\n",
    "trajectory_threshold = [800, 700]"
   ]
  },
  {
   "cell_type": "code",
   "execution_count": 6,
   "id": "8b4c500a",
   "metadata": {},
   "outputs": [
    {
     "name": "stdout",
     "output_type": "stream",
     "text": [
      "Data Statistic:\n",
      "\n",
      "Camera 1:\n",
      "    Mean    : [568.5925903320312, 382.0452575683594, 71.48180389404297, 23.83118438720703]\n",
      "    Std     : [508.6205139160156, 86.65821075439453, 38.7922248840332, 15.999728202819824]\n",
      "    Min     : [19.75390625, 248.5, 9.0, 5.5]\n",
      "    Min-Max : [1895.24609375, 395.75, 175.25, 151.0]\n",
      "            \n",
      "Camera 2:\n",
      "    Mean    : [625.708740234375, 378.6658020019531, 50.87128829956055, 17.526880264282227]\n",
      "    Std     : [503.80047607421875, 74.44298553466797, 23.998245239257812, 10.289590835571289]\n",
      "    Min     : [5.056640625, 248.5, 10.109375, 4.5]\n",
      "    Min-Max : [1909.443359375, 396.5, 172.640625, 83.5]\n",
      "    \n"
     ]
    }
   ],
   "source": [
    "# reload data while applying the correct value of trajectory_thresholdm, ensure `verbose = True`\n",
    "all_data = load_compiled_data(ts=[1, 2, 3, 4, 5], ws=[1, 2, 3, 4, 5], rs=[\n",
    "                              1, 2, 3], verbose=True, trajectory_threshold=trajectory_threshold)"
   ]
  },
  {
   "cell_type": "markdown",
   "id": "82389a31",
   "metadata": {},
   "source": [
    "Offset & divider value can hence be determined"
   ]
  },
  {
   "cell_type": "code",
   "execution_count": 7,
   "id": "88a383bc",
   "metadata": {},
   "outputs": [],
   "source": [
    "# offset = [offset_camera_1, offset_camera_2]\n",
    "offset = [[19.75390625, 248.5, 9.0, 5.5], [5.056640625, 248.5, 10.109375, 4.5]]\n",
    "\n",
    "# divider = [Min-Max_camera_1, divider_camera_2]\n",
    "divider = [[1895.24609375, 395.75, 175.25, 151.0],\n",
    "           [1909.443359375, 396.5, 172.640625, 83.5]]"
   ]
  },
  {
   "cell_type": "markdown",
   "id": "ae525dec",
   "metadata": {},
   "source": [
    "Reload data with all variables determined and ensure that no false detection is present and data is properly scaled"
   ]
  },
  {
   "cell_type": "code",
   "execution_count": 8,
   "id": "c3ebdfb5",
   "metadata": {},
   "outputs": [
    {
     "name": "stdout",
     "output_type": "stream",
     "text": [
      "Data Statistic:\n",
      "\n",
      "Camera 1:\n",
      "    Mean    : [0.28958699107170105, 0.33744844794273376, 0.35652950406074524, 0.12139858305454254]\n",
      "    Std     : [0.2683664858341217, 0.2189721018075943, 0.22135363519191742, 0.1059584692120552]\n",
      "    Min     : [0.0, 0.0, 0.0, 0.0]\n",
      "    Min-Max : [1.0, 1.0, 1.0, 1.0]\n",
      "            \n",
      "Camera 2:\n",
      "    Mean    : [0.3250434696674347, 0.32828688621520996, 0.23610851168632507, 0.15601053833961487]\n",
      "    Std     : [0.2638467848300934, 0.18775026500225067, 0.13900694251060486, 0.12322863936424255]\n",
      "    Min     : [0.0, 0.0, 0.0, 0.0]\n",
      "    Min-Max : [1.0, 1.0, 1.0, 1.0]\n",
      "    \n"
     ]
    },
    {
     "data": {
      "text/plain": [
       "<matplotlib.collections.PathCollection at 0x7f7227e5c8e0>"
      ]
     },
     "execution_count": 8,
     "metadata": {},
     "output_type": "execute_result"
    },
    {
     "data": {
      "image/png": "[encoded data removed]",
      "text/plain": [
       "<Figure size 720x360 with 2 Axes>"
      ]
     },
     "metadata": {
      "needs_background": "light"
     },
     "output_type": "display_data"
    }
   ],
   "source": [
    "all_data = load_compiled_data(ts=[1, 2, 3, 4, 5], ws=[1, 2, 3, 4, 5], rs=[\n",
    "                              1, 2, 3], verbose=True, offset=offset, divider=divider, trajectory_threshold=trajectory_threshold)\n",
    "\n",
    "fig, ax = plt.subplots(1, 2, figsize=(10, 5))\n",
    "ax[0].set_title(\"Camera 1\")\n",
    "ax[0].set_xlabel(\"Prediction Box Height\")\n",
    "ax[0].set_ylabel(\"Aircraft Distance\")\n",
    "ax[0].scatter(all_data['single']['cam_1']['x'][:, 1].numpy(),\n",
    "              all_data['single']['cam_1']['y'][:, 0].numpy(), s=1)\n",
    "\n",
    "ax[1].set_title(\"Camera 2\")\n",
    "ax[1].set_xlabel(\"Prediction Box Centroid Height\")\n",
    "ax[1].set_ylabel(\"Aircraft Distance\")\n",
    "ax[1].scatter(all_data['single']['cam_2']['x'][:, 1].numpy(),\n",
    "              all_data['single']['cam_2']['y'][:, 0].numpy(), s=1)"
   ]
  },
  {
   "cell_type": "markdown",
   "id": "6b111953",
   "metadata": {},
   "source": [
    "Data has been cleaned and ready for training!"
   ]
  },
  {
   "cell_type": "markdown",
   "id": "7ffe7319",
   "metadata": {},
   "source": [
    "## Training"
   ]
  },
  {
   "cell_type": "code",
   "execution_count": 3,
   "id": "927f79c3",
   "metadata": {},
   "outputs": [],
   "source": [
    "from torch.utils.data import DataLoader\n",
    "from utils.head import ensemble\n",
    "from utils.dataset import load_compiled_data, GeneralDataset\n",
    "from IPython import display\n",
    "import tqdm.auto as tqdm\n",
    "import numpy as np\n",
    "import matplotlib.pyplot as plt\n",
    "import torch\n",
    "import time\n",
    "import random\n",
    "\n",
    "num_camera = 2\n",
    "device = torch.device('cuda:0')"
   ]
  },
  {
   "cell_type": "code",
   "execution_count": 4,
   "id": "91c7c8ea",
   "metadata": {},
   "outputs": [],
   "source": [
    "# define model:\n",
    "\n",
    "total_time = 0\n",
    "model_type = 'm_m'\n",
    "model = ensemble(f'models/config/model_{model_type}.yaml', device = device)"
   ]
  },
  {
   "cell_type": "markdown",
   "id": "2dece8ec",
   "metadata": {},
   "source": [
    "### Input Regulator\n",
    "The following process are used to train the `Input Regulator` part of the architecture."
   ]
  },
  {
   "cell_type": "code",
   "execution_count": 11,
   "id": "b1871b82",
   "metadata": {},
   "outputs": [
    {
     "data": {
      "text/plain": [
       "ModuleList(\n",
       "  (0): Sequential(\n",
       "    (0): Linear(in_features=4, out_features=128, bias=True)\n",
       "    (1): ReLU()\n",
       "    (2): Linear(in_features=128, out_features=128, bias=True)\n",
       "    (3): ReLU()\n",
       "    (4): Linear(in_features=128, out_features=256, bias=True)\n",
       "    (5): ReLU()\n",
       "  )\n",
       "  (1): Sequential(\n",
       "    (0): Linear(in_features=4, out_features=128, bias=True)\n",
       "    (1): ReLU()\n",
       "    (2): Linear(in_features=128, out_features=128, bias=True)\n",
       "    (3): ReLU()\n",
       "    (4): Linear(in_features=128, out_features=256, bias=True)\n",
       "    (5): ReLU()\n",
       "  )\n",
       ")"
      ]
     },
     "execution_count": 11,
     "metadata": {},
     "output_type": "execute_result"
    }
   ],
   "source": [
    "model.input_regs"
   ]
  },
  {
   "cell_type": "markdown",
   "id": "603b3611",
   "metadata": {},
   "source": [
    "Split the dataset. \n",
    "\n",
    "`ts=[1,2,5],ws=[1],rs=[1,2]` ~ 6 landings are choosen for training\n",
    "<br>`ts=[1,2,5],ws=[1],rs=[3]` ~ 3 landings are choosen for testing\n",
    "\n",
    "Use `offset`, `divider`, and `trajectory_threshold` value determined from previous steps."
   ]
  },
  {
   "cell_type": "code",
   "execution_count": 12,
   "id": "aa509826",
   "metadata": {},
   "outputs": [],
   "source": [
    "offset = [[19.75390625, 248.5, 9.0, 5.5], [5.056640625, 248.5, 10.109375, 4.5]]\n",
    "divider = [[1895.24609375, 395.75, 175.25, 151.0],\n",
    "           [1909.443359375, 396.5, 172.640625, 83.5]]\n",
    "\n",
    "trajectory_threshold = [800, 700]\n",
    "\n",
    "train_data = load_compiled_data(ts=[1, 2, 5], ws=[1], rs=[\n",
    "                                1, 2], offset=offset, divider=divider, trajectory_threshold=trajectory_threshold, device=device, verbose=False)\n",
    "test_data = load_compiled_data(ts=[1, 2, 5], ws=[1], rs=[\n",
    "                               3], offset=offset, divider=divider, trajectory_threshold=trajectory_threshold, device=device, verbose=False)"
   ]
  },
  {
   "cell_type": "markdown",
   "id": "805e0308",
   "metadata": {},
   "source": [
    "The following hyperparameters can be chosen for training:"
   ]
  },
  {
   "cell_type": "code",
   "execution_count": 53,
   "id": "fd0d37d3",
   "metadata": {},
   "outputs": [
    {
     "data": {
      "application/vnd.jupyter.widget-view+json": {
       "model_id": "bafc190db59c41768cf8433642f50110",
       "version_major": 2,
       "version_minor": 0
      },
      "text/plain": [
       "  1%|1         | 496/40000 [00:02<03:39, 179.85it/s]"
      ]
     },
     "metadata": {},
     "output_type": "display_data"
    },
    {
     "name": "stdout",
     "output_type": "stream",
     "text": [
      "==========================\n",
      "Epoch 500\n",
      "Training Modes: all\n",
      "\n",
      "Loss:\n",
      "    Train:\n",
      "        Cam 1 : 5.8513571275398135e-05\n",
      "        Cam 2 : 4.4027088733855635e-05\n",
      "    Test:\n",
      "        Cam 1 : 4.33945533586666e-05\n",
      "        Cam 2 : 4.591730976244435e-05\n",
      "\n",
      "MAPE\n",
      "    Train:\n",
      "        Cam 1 : 0.24%\n",
      "        Cam 2 : 0.19%\n",
      "    Test:\n",
      "        Cam 1 : 0.24%\n",
      "        Cam 2 : 0.21%\n",
      "==========================\n"
     ]
    }
   ],
   "source": [
    "t0 = time.time()\n",
    "optimizers = None\n",
    "input_reg_training_log = model.training_log['aux']\n",
    "model.input_regs, model.aux_head, epoch, optimizers, training_log = train_aux(\n",
    "    input_regs=model.input_regs,\n",
    "    aux_head=model.aux_head,\n",
    "    train_data=train_data,\n",
    "    test_data=test_data, \n",
    "    optimizers_algortihm = 'Adam',\n",
    "    total_epochs=1000,\n",
    "    loss_scale = 10,\n",
    "    lr=1e-3\n",
    "    mode='auto')\n",
    "total_time += time.time() - t0\n",
    "model.epochs['aux'] += epoch\n",
    "model.training_log['aux'] = de_training_log\n"
   ]
  },
  {
   "cell_type": "markdown",
   "id": "3814ef24",
   "metadata": {},
   "source": [
    "Training Modes Available: `'auto'`, `'all'`, `camera n`\n",
    "- `all` will train all camera in order.\n",
    "- `0` - `1`will train specific camera. \n",
    "- `auto` will intelligently choose which mode to achieve optimal result\n",
    "\n",
    "Note that Camera is counted from 1, hence `0` will target `Camera 1`."
   ]
  },
  {
   "cell_type": "markdown",
   "id": "45a827b3",
   "metadata": {},
   "source": [
    "### Distance Estimator\n",
    "The following process are used to train the `Distance Estimator` part of the architecture."
   ]
  },
  {
   "cell_type": "code",
   "execution_count": 21,
   "id": "407310e4",
   "metadata": {},
   "outputs": [
    {
     "data": {
      "text/plain": [
       "Sequential(\n",
       "  (0): LSTM(256, 256, num_layers=2, batch_first=True)\n",
       "  (1): extract_tensor()\n",
       "  (2): Linear(in_features=256, out_features=128, bias=True)\n",
       "  (3): ReLU()\n",
       "  (4): Linear(in_features=128, out_features=1, bias=True)\n",
       "  (5): ReLU()\n",
       ")"
      ]
     },
     "execution_count": 21,
     "metadata": {},
     "output_type": "execute_result"
    }
   ],
   "source": [
    "model.sequential_de"
   ]
  },
  {
   "cell_type": "markdown",
   "id": "96693a69",
   "metadata": {},
   "source": [
    "Split the dataset. \n",
    "\n",
    "`ts=[1,2,5],ws=[1],rs=[1,2]` ~ 6 landings are choosen for training\n",
    "<br>`ts=[1,2,5],ws=[1],rs=[3]` ~ 3 landings are choosen for testing\n",
    "\n",
    "Use `offset`, `divider`, and `trajectory_threshold` value determined from previous steps."
   ]
  },
  {
   "cell_type": "code",
   "execution_count": 22,
   "id": "7d215f0b",
   "metadata": {},
   "outputs": [],
   "source": [
    "offset = [[19.75390625, 248.5, 9.0, 5.5], [5.056640625, 248.5, 10.109375, 4.5]]\n",
    "divider = [[1895.24609375, 395.75, 175.25, 151.0],\n",
    "           [1909.443359375, 396.5, 172.640625, 83.5]]\n",
    "\n",
    "trajectory_threshold = [800, 700]\n",
    "\n",
    "train_data = load_compiled_data(ts=[1, 2, 5], ws=[1], rs=[\n",
    "                                1, 2], offset=offset, divider=divider, trajectory_threshold=trajectory_threshold, device=device, verbose=False)\n",
    "test_data = load_compiled_data(ts=[1, 2, 5], ws=[1], rs=[\n",
    "                               3], offset=offset, divider=divider, trajectory_threshold=trajectory_threshold, device=device, verbose=False)"
   ]
  },
  {
   "cell_type": "markdown",
   "id": "7e511435",
   "metadata": {},
   "source": [
    "The following hyperparameters can be chosen for training:"
   ]
  },
  {
   "cell_type": "code",
   "execution_count": 25,
   "id": "f7179291",
   "metadata": {},
   "outputs": [
    {
     "data": {
      "application/vnd.jupyter.widget-view+json": {
       "model_id": "10e71f088b854873a703bb9934a0cc1b",
       "version_major": 2,
       "version_minor": 0
      },
      "text/plain": [
       "  0%|          | 5/10000 [00:13<6:13:35,  2.24s/it]"
      ]
     },
     "metadata": {},
     "output_type": "display_data"
    },
    {
     "name": "stdout",
     "output_type": "stream",
     "text": [
      "==========================\n",
      "Epoch 5\n",
      "\n",
      "Loss:\n",
      "    Train:\n",
      "        Current : 0.0005435871426016092\n",
      "        \n",
      "    Test:\n",
      "        Deep    : 0.00046186998952180147\n",
      "        Shallow : 0.0017644953913986683\n",
      "\n",
      "MAPE \n",
      "    Train:\n",
      "        Current : 1.9685420767981032\n",
      "    Test:\n",
      "        Deep    : 1.39%\n",
      "        Shallow : 1.62%\n",
      "    Test (Max):\n",
      "        Deep    : 0.41 nm\n",
      "        Shallow : 1.34 nm\n",
      "==========================\n"
     ]
    }
   ],
   "source": [
    "t0 = time.time()\n",
    "optimizers = None\n",
    "de_training_log = model.training_log['de']\n",
    "model.input_regs, model.sequential_de, epoch, optimizers, training_log = train_de(\n",
    "    input_regs=model.input_regs,\n",
    "    sequential_de=model.sequential_de,\n",
    "    train_data=train_data,\n",
    "    test_data=test_data,\n",
    "    optimizers=optimizers,\n",
    "    optimizers_algortihm = 'Adam',\n",
    "    total_epochs=10000,\n",
    "    loss_scale=10,\n",
    "    lr=1e-3\n",
    "    mode='auto')\n",
    "total_time += time.time() - t0\n",
    "model.epochs['de'] += epoch\n",
    "model.training_log['de'] = de_training_log"
   ]
  },
  {
   "cell_type": "markdown",
   "id": "1740c170",
   "metadata": {},
   "source": [
    "Training Modes Available: `'auto'`\n",
    "- `auto` will randomly remove camera views to generalize training."
   ]
  },
  {
   "cell_type": "markdown",
   "id": "fcce0c7f",
   "metadata": {},
   "source": [
    "## Model Saving and Loading\n",
    "\n",
    "Model can be save using the following code:"
   ]
  },
  {
   "cell_type": "code",
   "execution_count": null,
   "id": "d94033f6",
   "metadata": {},
   "outputs": [],
   "source": [
    "training_dict = {'model_type': model_type,\n",
    "                 'num_camera': 2,\n",
    "                 'epochs': model.epochs,\n",
    "                 'training_log': model.training_log,\n",
    "                 'state_dict': {'input_reg': model.input_regs.state_dict(),\n",
    "                                'de': model.sequential_de.state_dict(),\n",
    "                                'aux': model.aux_head.state_dict()},\n",
    "                 'training_time': total_time}\n",
    "torch.save(training_dict, f'models/head/{model_type}.pt')"
   ]
  },
  {
   "cell_type": "markdown",
   "id": "93cb4774",
   "metadata": {},
   "source": [
    "Model can be loaded using the same `ensemble` function to create them:"
   ]
  },
  {
   "cell_type": "code",
   "execution_count": 5,
   "id": "f61ab86a",
   "metadata": {},
   "outputs": [],
   "source": [
    "model = ensemble(model_conf=f'models/config/model_{model_type}.yaml', \n",
    "                 model_state_dict=f'models/head/{model_type}.pt', device = device)"
   ]
  }
 ],
 "metadata": {
  "kernelspec": {
   "display_name": "ad",
   "language": "python",
   "name": "ad"
  },
  "language_info": {
   "codemirror_mode": {
    "name": "ipython",
    "version": 3
   },
   "file_extension": ".py",
   "mimetype": "text/x-python",
   "name": "python",
   "nbconvert_exporter": "python",
   "pygments_lexer": "ipython3",
   "version": "3.10.6"
  }
 },
 "nbformat": 4,
 "nbformat_minor": 5
}
