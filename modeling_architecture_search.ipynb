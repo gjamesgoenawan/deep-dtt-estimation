{
 "cells": [
  {
   "cell_type": "markdown",
   "id": "14a7cd97",
   "metadata": {},
   "source": [
    "# Architecture Searching\n",
    "\n",
    "This notebook aims to experiment with different model size to find a balance between accuracy and inference speed.\n",
    "<br>Each model will be trained individually for a **fixed amount of epochs** with the **same seeding** for reproducability.\n",
    "\n",
    "Different model sizes can is defined in `models/config/`\n",
    "<br> **WARNING!! This process will take a significant amount of time!**"
   ]
  },
  {
   "cell_type": "code",
   "execution_count": 3,
   "id": "e10e6d44",
   "metadata": {},
   "outputs": [
    {
     "name": "stdout",
     "output_type": "stream",
     "text": [
      "GPU 0: NVIDIA GeForce RTX 3080 (UUID: GPU-58d4b761-7fa1-8927-84ca-6f49200bea8f)\r\n"
     ]
    }
   ],
   "source": [
    "!nvidia-smi -L\n",
    "device = 'cuda:0'"
   ]
  },
  {
   "cell_type": "code",
   "execution_count": 4,
   "id": "b1e6fcde",
   "metadata": {},
   "outputs": [],
   "source": [
    "from utils.head import ensemble\n",
    "from utils.dataset import load_compiled_data\n",
    "from utils.training import train_aux, train_de\n",
    "import matplotlib.pyplot as plt\n",
    "import torch\n",
    "import random\n",
    "import torch.nn as nn\n",
    "import torchinfo\n",
    "import time\n",
    "import os\n",
    "\n",
    "device = torch.device(device)\n",
    "offset = [[19.75390625, 248.5, 9.0, 5.5], [5.056640625, 248.5, 10.109375, 4.5]]\n",
    "divider = [[1895.24609375, 395.75, 175.25, 151.0],[1909.443359375, 396.5, 172.640625, 83.5]]\n",
    "\n",
    "trajectory_threshold = [800, 700]\n",
    "\n",
    "train_data = load_compiled_data(ts=[2,3,4], ws=[1], rs=[\n",
    "                                1, 2], offset=offset, divider=divider, trajectory_threshold=trajectory_threshold, device=device, verbose=False)\n",
    "test_data = load_compiled_data(ts=[2,3,4], ws=[1], rs=[\n",
    "                               3], offset=offset, divider=divider, trajectory_threshold=trajectory_threshold, device=device, verbose=False)\n",
    "\n",
    "device = torch.device('cuda:0')\n",
    "model_list = [['s_s', 's_m', 's_l'], ['m_s', 'm_m', 'm_l'], ['l_s', 'l_m', 'l_l']]\n",
    "desc = 'big_dataset'\n",
    "init_list = ['kaiming']"
   ]
  },
  {
   "cell_type": "markdown",
   "id": "e438a6b2",
   "metadata": {},
   "source": [
    "# Calibration Layer\n",
    "\n",
    "Calibration layer (`input_reg`) will be trained for a total of **110k** training iterations with: \n",
    "- `1e-5` Learning rate for the first **10k** \n",
    "- `1e-6` for the rest.\n",
    "\n",
    "Adam Optimizer is used throughout this training\n",
    "<br> The obtained model will be saved in `models/head/{backup_directory}` folder for later use.\n",
    "\n",
    "Note that each Calibration layer size will only be trained once."
   ]
  },
  {
   "cell_type": "code",
   "execution_count": 5,
   "id": "afef3fb0",
   "metadata": {},
   "outputs": [],
   "source": [
    "backup_input_reg_directory = 'backup_input_reg'"
   ]
  },
  {
   "cell_type": "code",
   "execution_count": null,
   "id": "40735bb5",
   "metadata": {},
   "outputs": [],
   "source": [
    "for init in init_list:\n",
    "    try:\n",
    "        os.mkdir(f'models/head/{backup_input_reg_directory}/{init}')\n",
    "    except: \n",
    "        pass\n",
    "    \n",
    "    for ms in model_list:\n",
    "        model_type = ms[0]\n",
    "        model = ensemble(f'models/config/model_{model_type}.yaml', initializer=init, device=device)\n",
    "\n",
    "        torch.manual_seed(0)\n",
    "        random.seed(0)\n",
    "\n",
    "        t0 = time.time()\n",
    "\n",
    "        #aux\n",
    "        optimizers = None\n",
    "        input_reg_training_log = None\n",
    "        model.input_regs, model.aux_head, epoch, optimizers, input_reg_training_log = train_aux(\n",
    "            input_regs=model.input_regs,\n",
    "            aux_head=model.aux_head,\n",
    "            train_data=train_data,\n",
    "            test_data=test_data,\n",
    "            training_log=input_reg_training_log,\n",
    "            optimizers_algortihm= 'Adam',\n",
    "            total_epochs=10000,\n",
    "            lr=1e-5,\n",
    "            desc = f'{model_type}')\n",
    "        model.epochs['aux'] += epoch\n",
    "        model.input_regs, model.aux_head, epoch, optimizers, input_reg_training_log = train_aux(\n",
    "            input_regs=model.input_regs,\n",
    "            aux_head=model.aux_head,\n",
    "            train_data=train_data,\n",
    "            test_data=test_data,\n",
    "            training_log=input_reg_training_log,\n",
    "            optimizers_algortihm= 'Adam',\n",
    "            total_epochs=100000,\n",
    "            lr=1e-6,\n",
    "            desc = f'{model_type}')\n",
    "        model.epochs['aux'] += epoch\n",
    "        model.training_log['aux'] = input_reg_training_log\n",
    "\n",
    "        total_time = time.time() - t0\n",
    "\n",
    "        for model_type in ms:\n",
    "\n",
    "            training_dict = {'model_type': model_type,\n",
    "                             'num_camera': 2,\n",
    "                             'epochs': model.epochs,\n",
    "                             'training_log': model.training_log,\n",
    "                             'state_dict': {'input_reg': model.input_regs.state_dict(),\n",
    "                                            'de': model.sequential_de.state_dict(),\n",
    "                                            'aux': model.aux_head.state_dict()},\n",
    "                              'training_time': total_time}\n",
    "            torch.save(training_dict, f'models/head/{backup_input_reg_directory}/{init}/{model_type}.pt')"
   ]
  },
  {
   "cell_type": "markdown",
   "id": "ce1fe333",
   "metadata": {},
   "source": [
    "# Sequential DE\n",
    "\n",
    "Sequential Layer (`sequential_de`) will be trained for a total of **2600** epochs with: \n",
    "- `1e-4` Learning rate for the first **100** Epochs\n",
    "- `1e-5` Learning rate for the subsequent **1k** Epochs\n",
    "- `1e-6` for the rest.\n",
    "\n",
    "Adam Optimizer is used throughout this training\n",
    "<br> Model with the **same calibration** layer size will used the **same trained weights** for the calibration layer"
   ]
  },
  {
   "cell_type": "code",
   "execution_count": 19,
   "id": "d784fdbb",
   "metadata": {},
   "outputs": [],
   "source": [
    "seed_list = [0,1,2,3,4]\n",
    "init = 'kaiming'"
   ]
  },
  {
   "cell_type": "code",
   "execution_count": 34,
   "id": "777ca2f4",
   "metadata": {},
   "outputs": [
    {
     "data": {
      "application/vnd.jupyter.widget-view+json": {
       "model_id": "8558d599ded64d5fbded79d3ab71d716",
       "version_major": 2,
       "version_minor": 0
      },
      "text/plain": [
       "100%|#########9| 1495/1500 [1:08:38<00:13,  2.71s/it]"
      ]
     },
     "metadata": {},
     "output_type": "display_data"
    },
    {
     "name": "stdout",
     "output_type": "stream",
     "text": [
      "==========================\n",
      "Epoch 1495\n",
      "Training Mode: random\n",
      "Desc: 4 - l_l\n",
      "\n",
      "Loss:\n",
      "    Train:\n",
      "        Current : 1.5385680853796657e-06\n",
      "        \n",
      "    Test:\n",
      "        Deep    : 2.1542648482864024e-06\n",
      "        Shallow : 4.676069693232421e-06\n",
      "\n",
      "MAPE \n",
      "    Train:\n",
      "        Current : 0.15%\n",
      "    Test:\n",
      "        Deep    : 0.14%\n",
      "        Shallow : 0.22%\n",
      "    Test (Max):\n",
      "        Deep    : 0.10 nm\n",
      "        Shallow : 0.17 nm\n",
      "==========================\n"
     ]
    }
   ],
   "source": [
    "reference_time = time.time()\n",
    "for seed in seed_list:\n",
    "\n",
    "    if not os.path.isdir(f'models/head/big_dataset/{init}_{seed}/'):\n",
    "        os.mkdir(f'models/head/big_dataset/{init}_{seed}/')\n",
    "\n",
    "    for ms in model_list:\n",
    "        for i in range(0, 3):\n",
    "\n",
    "            torch.manual_seed(seed)\n",
    "            random.seed(seed)\n",
    "\n",
    "            model_type = ms[i]\n",
    "\n",
    "            model = ensemble(f'models/config/model_{model_type}.yaml',\n",
    "                             model_state_dict=f'models/head/{backup_input_reg_directory}/{model_type}.pt', parts_to_load=['aux', 'input_reg'], device=device)\n",
    "\n",
    "            t0 = time.time()\n",
    "\n",
    "            # de\n",
    "            optimizers = None\n",
    "            de_training_log = None\n",
    "\n",
    "            model.input_regs, model.sequential_de, epoch, optimizers, de_training_log = train_de(\n",
    "                input_regs=model.input_regs,\n",
    "                sequential_de=model.sequential_de,\n",
    "                train_data=train_data,\n",
    "                test_data=test_data,\n",
    "                optimizers=optimizers,\n",
    "                training_log=de_training_log,\n",
    "                mode='random',\n",
    "                optimizers_algortihm='Adam',\n",
    "                total_epochs=100,\n",
    "                lr=1e-4,\n",
    "                desc=f'{seed} - {model_type}')\n",
    "            model.epochs['de'] += epoch\n",
    "            model.input_regs, model.sequential_de, epoch, optimizers, de_training_log = train_de(\n",
    "                input_regs=model.input_regs,\n",
    "                sequential_de=model.sequential_de,\n",
    "                train_data=train_data,\n",
    "                test_data=test_data,\n",
    "                optimizers=optimizers,\n",
    "                training_log=de_training_log,\n",
    "                mode='random',\n",
    "                optimizers_algortihm='Adam',\n",
    "                total_epochs=1000,\n",
    "                lr=1e-5,\n",
    "                desc=f'{seed} - {model_type}')\n",
    "            model.epochs['de'] += epoch\n",
    "            model.input_regs, model.sequential_de, epoch, optimizers, de_training_log = train_de(\n",
    "                input_regs=model.input_regs,\n",
    "                sequential_de=model.sequential_de,\n",
    "                train_data=train_data,\n",
    "                test_data=test_data,\n",
    "                optimizers=optimizers,\n",
    "                training_log=de_training_log,\n",
    "                mode='random',\n",
    "                optimizers_algortihm='Adam',\n",
    "                total_epochs=1500,\n",
    "                lr=1e-6,\n",
    "                desc=f'{seed} - {model_type}')\n",
    "            model.epochs['de'] += epoch\n",
    "            model.training_log['de'] = de_training_log\n",
    "\n",
    "            total_time = time.time() - t0 + \\\n",
    "                torch.load(\n",
    "                    f'models/head/{backup_input_reg_directory}/{model_type}.pt')['training_time']\n",
    "\n",
    "            training_dict = {'model_type': model_type,\n",
    "                             'num_camera': 2,\n",
    "                             'epochs': model.epochs,\n",
    "                             'training_log': model.training_log,\n",
    "                             'state_dict': {'input_reg': model.input_regs.state_dict(),\n",
    "                                            'de': model.sequential_de.state_dict(),\n",
    "                                            'aux': model.aux_head.state_dict()},\n",
    "                             'training_time': total_time}\n",
    "            torch.save(\n",
    "                training_dict, f'models/head/{desc}/{init}_{seed}/{model_type}.pt')"
   ]
  },
  {
   "cell_type": "code",
   "execution_count": 35,
   "id": "fafd93be",
   "metadata": {},
   "outputs": [
    {
     "name": "stdout",
     "output_type": "stream",
     "text": [
      "180290.9513938427\n"
     ]
    }
   ],
   "source": [
    "# Total Training Time\n",
    "print(time.time() - reference_time)"
   ]
  },
  {
   "cell_type": "markdown",
   "id": "f3d21db9",
   "metadata": {},
   "source": [
    "~ 50 hours run time ... "
   ]
  },
  {
   "cell_type": "markdown",
   "id": "d1004629",
   "metadata": {},
   "source": [
    "# Result Analysis\n",
    "\n",
    "Prediction will be made for every model with every intialization and seed. Inference time will also be saved.\n",
    "<br>Final Prediction will be saved to `output/distance_estimator/{init}_{desc}_as.pkl`"
   ]
  },
  {
   "cell_type": "code",
   "execution_count": 3,
   "id": "4c936f8f",
   "metadata": {},
   "outputs": [],
   "source": [
    "from utils.head import ensemble\n",
    "from utils.dataset import load_compiled_data\n",
    "import matplotlib.pyplot as plt\n",
    "import torch\n",
    "import torch.nn as nn\n",
    "import torchinfo\n",
    "import pickle as pkl\n",
    "import time\n",
    "import os\n",
    "import numpy as np\n",
    "\n",
    "device = torch.device('cuda:0')\n",
    "\n",
    "offset = [[19.75390625, 248.5, 9.0, 5.5], [5.056640625, 248.5, 10.109375, 4.5]]\n",
    "divider = [[1895.24609375, 395.75, 175.25, 151.0],\n",
    "           [1909.443359375, 396.5, 172.640625, 83.5]]\n",
    "\n",
    "torch.backends.cudnn.benchmark = True\n",
    "trajectory_threshold = [800, 700]\n",
    "\n",
    "test_data = load_compiled_data(ts=[2,3,4], ws=[1], rs=[\n",
    "                               3], offset=offset, divider=divider, trajectory_threshold=trajectory_threshold, inference_mode = True, device=device, verbose=False)\n",
    "test_data['y'] = test_data['y']\n",
    "ff = torch.any(torch.all(test_data['x'] != 0, dim = 2), dim = 0)\n",
    "\n",
    "model_list = ['s_s', 's_m', 's_l', 'm_s', 'm_m', 'm_l', 'l_s', 'l_m', 'l_l']\n",
    "seed_list = [0,1,2,3,4]\n",
    "init_list = ['kaiming']\n",
    "desc = 'big_dataset'"
   ]
  },
  {
   "cell_type": "code",
   "execution_count": 9,
   "id": "7f8c45a1",
   "metadata": {},
   "outputs": [
    {
     "name": "stdout",
     "output_type": "stream",
     "text": [
      "Inferencing Model s_s, Seed 0, kaiming Initialization\n",
      "Inferencing Model s_s, Seed 1, kaiming Initialization\n",
      "Inferencing Model s_s, Seed 2, kaiming Initialization\n",
      "Inferencing Model s_s, Seed 3, kaiming Initialization\n",
      "Inferencing Model s_s, Seed 4, kaiming Initialization\n",
      "Inferencing Model s_m, Seed 0, kaiming Initialization\n",
      "Inferencing Model s_m, Seed 1, kaiming Initialization\n",
      "Inferencing Model s_m, Seed 2, kaiming Initialization\n",
      "Inferencing Model s_m, Seed 3, kaiming Initialization\n",
      "Inferencing Model s_m, Seed 4, kaiming Initialization\n",
      "Inferencing Model s_l, Seed 0, kaiming Initialization\n",
      "Inferencing Model s_l, Seed 1, kaiming Initialization\n",
      "Inferencing Model s_l, Seed 2, kaiming Initialization\n",
      "Inferencing Model s_l, Seed 3, kaiming Initialization\n",
      "Inferencing Model s_l, Seed 4, kaiming Initialization\n",
      "Inferencing Model m_s, Seed 0, kaiming Initialization\n",
      "Inferencing Model m_s, Seed 1, kaiming Initialization\n",
      "Inferencing Model m_s, Seed 2, kaiming Initialization\n",
      "Inferencing Model m_s, Seed 3, kaiming Initialization\n",
      "Inferencing Model m_s, Seed 4, kaiming Initialization\n",
      "Inferencing Model m_m, Seed 0, kaiming Initialization\n",
      "Inferencing Model m_m, Seed 1, kaiming Initialization\n",
      "Inferencing Model m_m, Seed 2, kaiming Initialization\n",
      "Inferencing Model m_m, Seed 3, kaiming Initialization\n",
      "Inferencing Model m_m, Seed 4, kaiming Initialization\n",
      "Inferencing Model m_l, Seed 0, kaiming Initialization\n",
      "Inferencing Model m_l, Seed 1, kaiming Initialization\n",
      "Inferencing Model m_l, Seed 2, kaiming Initialization\n",
      "Inferencing Model m_l, Seed 3, kaiming Initialization\n",
      "Inferencing Model m_l, Seed 4, kaiming Initialization\n",
      "Inferencing Model l_s, Seed 0, kaiming Initialization\n",
      "Inferencing Model l_s, Seed 1, kaiming Initialization\n",
      "Inferencing Model l_s, Seed 2, kaiming Initialization\n",
      "Inferencing Model l_s, Seed 3, kaiming Initialization\n",
      "Inferencing Model l_s, Seed 4, kaiming Initialization\n",
      "Inferencing Model l_m, Seed 0, kaiming Initialization\n",
      "Inferencing Model l_m, Seed 1, kaiming Initialization\n",
      "Inferencing Model l_m, Seed 2, kaiming Initialization\n",
      "Inferencing Model l_m, Seed 3, kaiming Initialization\n",
      "Inferencing Model l_m, Seed 4, kaiming Initialization\n",
      "Inferencing Model l_l, Seed 0, kaiming Initialization\n",
      "Inferencing Model l_l, Seed 1, kaiming Initialization\n",
      "Inferencing Model l_l, Seed 2, kaiming Initialization\n",
      "Inferencing Model l_l, Seed 3, kaiming Initialization\n",
      "Inferencing Model l_l, Seed 4, kaiming Initialization\n"
     ]
    }
   ],
   "source": [
    "# Time dict Creation\n",
    "for init in init_list:\n",
    "    if os.path.exists(f'output/distance_estimator/{init}_{desc}_as.pkl'):\n",
    "        with open(f'output/distance_estimator/{init}_{desc}_as.pkl', 'rb') as f:\n",
    "            output_dict, time_dict = pkl.load(f)\n",
    "    else:\n",
    "        output_dict, time_dict = {}, {}\n",
    "        \n",
    "    time_dict = {i:torch.zeros(len(seed_list)) for i in model_list}\n",
    "    output_dict = {i:torch.zeros(len(seed_list), test_data['x'][:, ff].shape[1]) for i in model_list}\n",
    "    \n",
    "    with open(f'output/distance_estimator/{init}_{desc}_as.pkl', 'wb') as f:\n",
    "        pkl.dump([output_dict, time_dict], f)\n",
    "        \n",
    "    for model_type in model_list:\n",
    "        for seed in seed_list:\n",
    "            print(f\"Inferencing Model {model_type}, Seed {seed}, {init} Initialization\")\n",
    "            model = ensemble(f'models/config/model_{model_type}.yaml', model_state_dict=f'models/head/{desc}/{init}_{seed}/{model_type}.pt', device=device, verbose=False)\n",
    "\n",
    "            with open(f'output/distance_estimator/{init}_{desc}_as.pkl', 'rb') as f:\n",
    "                output_dict, time_dict = pkl.load(f)\n",
    "            if seed == seed[0]:\n",
    "                x_test = torch.ones([2,1,4], device = device)\n",
    "\n",
    "                #Warm-up\n",
    "                for i in range(0, 100):\n",
    "                    model(x_test, batch_mode = False)\n",
    "\n",
    "                t0=time.time()\n",
    "                for i in range(0, 100):\n",
    "                    __ = model(x_test, batch_mode = False)\n",
    "                time_dict[model_type] = (time.time() - t0) / 100\n",
    "\n",
    "            output_dict[model_type][seed] = model(test_data['x'][:, ff]).cpu()\n",
    "\n",
    "            with open(f'output/distance_estimator/{init}_{desc}_as.pkl', 'wb') as f:\n",
    "                pkl.dump([output_dict, time_dict], f)"
   ]
  },
  {
   "cell_type": "code",
   "execution_count": 11,
   "id": "67d156cb",
   "metadata": {},
   "outputs": [],
   "source": [
    "init = init_list[0]\n",
    "with open(f'output/distance_estimator/{init}_{desc}_as.pkl', 'rb') as f:\n",
    "    output_dict, time_dict = pkl.load(f)\n",
    "best_mape = {}\n",
    "for i in output_dict.keys():\n",
    "    best_mape[i] = torch.mean(torch.mean(abs(output_dict[i].cuda() - test_data['y'][0, ff, 0]) * 100 / test_data['y'][0, ff, 0], axis = 1)).item()\n",
    "output_s = [best_mape[i] for i in ['s_s', 's_m', 's_l']]\n",
    "output_m = [best_mape[i] for i in ['m_s', 'm_m', 'm_l']]\n",
    "output_l = [best_mape[i] for i in ['l_s', 'l_m', 'l_l']]\n",
    "time_s = [time_dict[model_type] * 1000 for model_type in ['s_s', 's_m', 's_l']]\n",
    "time_m = [time_dict[model_type] * 1000 for model_type in ['m_s', 'm_m', 'm_l']]\n",
    "time_l = [time_dict[model_type] * 1000 for model_type in ['l_s', 'l_m', 'l_l']]"
   ]
  },
  {
   "cell_type": "code",
   "execution_count": 12,
   "id": "86577df0",
   "metadata": {},
   "outputs": [
    {
     "data": {
      "text/plain": [
       "<matplotlib.legend.Legend at 0x7fc01022f670>"
      ]
     },
     "execution_count": 12,
     "metadata": {},
     "output_type": "execute_result"
    },
    {
     "data": {
      "image/png": "[encoded data removed]",
      "text/plain": [
       "<Figure size 504x504 with 1 Axes>"
      ]
     },
     "metadata": {
      "needs_background": "light"
     },
     "output_type": "display_data"
    }
   ],
   "source": [
    "# Plotting Graph\n",
    "from matplotlib.lines import Line2D\n",
    "\n",
    "fig, ax = plt.subplots(1,1, figsize = (7, 7))\n",
    "cmap1 = plt.cm.flag\n",
    "cmap2 = plt.cm.viridis\n",
    "ax.scatter(time_s, output_s, c=[0,1,2], vmin=0, vmax=20, cmap = 'flag', zorder = 2)\n",
    "ax.scatter(time_m, output_m, c=[0,1,2], vmin=0, vmax=20, cmap = 'flag', zorder = 2)\n",
    "ax.scatter(time_l, output_l, c=[0,1,2], vmin=0, vmax=20, cmap = 'flag', zorder = 2)\n",
    "\n",
    "ax.set_title(\"Model Types Comparison\")\n",
    "ax.set_ylabel('MAPE (%)')\n",
    "ax.set_xlabel('Inference Time (ms)')\n",
    "\n",
    "ax.plot(time_s, output_s, zorder = 1, c='#156DB6')\n",
    "ax.plot(time_m, output_m, zorder = 1, c='#DF8000')\n",
    "ax.plot(time_l, output_l, zorder = 1, c='#17BB24')\n",
    "\n",
    "\n",
    "custom_lines_1 = [Line2D([0], [0], color=cmap1(0), lw=0, marker='o', markersize=6),\n",
    "                Line2D([0], [0], color=cmap1(1000), lw=0, marker='o', markersize=6),\n",
    "                Line2D([0], [0], color=cmap1(9), lw=0, marker='o', markersize=6)]\n",
    "\n",
    "custom_lines_2 = [Line2D([0], [0], color='#156DB6', lw = 4),\n",
    "                Line2D([0], [0], color='#DF8000', lw = 4),\n",
    "                Line2D([0], [0], color='#17BB24', lw = 4)]\n",
    "\n",
    "\n",
    "legend1 = ax.legend(custom_lines_1, ['Small', 'Medium', 'Large'], title= \"Sequential Model Size\", loc ='upper right')\n",
    "ax.add_artist(legend1)\n",
    "legend2 = ax.legend(custom_lines_2, ['Small', 'Medium', 'Large'], title=\"Calibration Layer Size\", loc = 'upper center', bbox_to_anchor=[0.837, 0.82])\n",
    "ax.add_artist(legend2)"
   ]
  }
 ],
 "metadata": {
  "kernelspec": {
   "display_name": "ad",
   "language": "python",
   "name": "ad"
  },
  "language_info": {
   "codemirror_mode": {
    "name": "ipython",
    "version": 3
   },
   "file_extension": ".py",
   "mimetype": "text/x-python",
   "name": "python",
   "nbconvert_exporter": "python",
   "pygments_lexer": "ipython3",
   "version": "3.10.6"
  }
 },
 "nbformat": 4,
 "nbformat_minor": 5
}
