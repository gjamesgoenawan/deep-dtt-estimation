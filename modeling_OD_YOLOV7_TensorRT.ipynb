{
 "cells": [
  {
   "cell_type": "code",
   "execution_count": null,
   "id": "c2afc864",
   "metadata": {},
   "outputs": [],
   "source": [
    "!pip install --upgrade setuptools pip --user\n",
    "!pip install nvidia-pyindex\n",
    "!pip install onnx_graphsurgeon\n",
    "!pip install onnx \n",
    "!pip install onnxruntime\n",
    "!pip install --ignore-installed PyYAML\n",
    "!pip install --upgrade nvidia-tensorrt\n",
    "!pip install pycuda \n",
    "!pip install protobuf<4.21.3\n",
    "!pip install onnxruntime\n",
    "!pip install onnx>=1.9.0\n",
    "!pip install onnx-simplifier>=0.3.6 --user\n",
    "!pip install pandas\n",
    "!pip install opencv-python\n",
    "!pip install tqdm\n",
    "!pip install matplotlib\n",
    "!pip install seaborn\n",
    "!pip install scipy"
   ]
  },
  {
   "cell_type": "code",
   "execution_count": null,
   "id": "e7c0aceb",
   "metadata": {},
   "outputs": [],
   "source": [
    "!git clone https://github.com/WongKinYiu/yolov7.git"
   ]
  },
  {
   "cell_type": "code",
   "execution_count": null,
   "id": "94cabe2f",
   "metadata": {},
   "outputs": [],
   "source": [
    "!git clone https://github.com/Linaom1214/TensorRT-For-YOLO-Series.git"
   ]
  },
  {
   "cell_type": "code",
   "execution_count": null,
   "id": "e877ed80",
   "metadata": {},
   "outputs": [],
   "source": [
    "!wget https://github.com/WongKinYiu/yolov7/releases/download/v0.1/yolov7.pt -P models/object-detector/"
   ]
  },
  {
   "cell_type": "code",
   "execution_count": null,
   "id": "32c159d6",
   "metadata": {
    "scrolled": false
   },
   "outputs": [],
   "source": [
    "# Exporting to TorchScript-Lite might fail. If occurs, the code block to export to TorchScript-Lite can just be removed.\n",
    "!python yolov7/export.py --weights models/object-detector/yolov7.pt --grid --simplify --include-nms --topk-all 20 --batch-size 1"
   ]
  },
  {
   "cell_type": "code",
   "execution_count": null,
   "id": "58a844ce",
   "metadata": {},
   "outputs": [],
   "source": [
    "!python TensorRT-For-YOLO-Series/export.py -o models/object-detector/y7_b1.onnx -e models/object-detector/y7_b1.trt -p fp16"
   ]
  }
 ],
 "metadata": {
  "kernelspec": {
   "display_name": "Python 3 (ipykernel)",
   "language": "python",
   "name": "python3"
  },
  "language_info": {
   "codemirror_mode": {
    "name": "ipython",
    "version": 3
   },
   "file_extension": ".py",
   "mimetype": "text/x-python",
   "name": "python",
   "nbconvert_exporter": "python",
   "pygments_lexer": "ipython3",
   "version": "3.10.6"
  }
 },
 "nbformat": 4,
 "nbformat_minor": 5
}
