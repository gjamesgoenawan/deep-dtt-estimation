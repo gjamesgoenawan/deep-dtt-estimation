{
 "cells": [
  {
   "cell_type": "code",
   "execution_count": 3,
   "id": "8579757f",
   "metadata": {},
   "outputs": [
    {
     "name": "stdout",
     "output_type": "stream",
     "text": [
      "aircraft-detection custom utils\n"
     ]
    }
   ],
   "source": [
    "import pickle as pkl\n",
    "import tqdm.notebook as tqdm\n",
    "import cv2\n",
    "import torch\n",
    "import time\n",
    "\n",
    "from numpy import random\n",
    "import os\n",
    "import tqdm.notebook as tqdm\n",
    "import numpy as np\n",
    "import matplotlib.pyplot as plt\n",
    "import geopy.distance \n",
    "from IPython import display\n",
    "from ipywidgets import Output\n",
    "\n",
    "import custom_utils\n",
    "torch.backends.cudnn.benchmark = True"
   ]
  },
  {
   "cell_type": "code",
   "execution_count": 2,
   "id": "f5bebd72",
   "metadata": {},
   "outputs": [
    {
     "name": "stdout",
     "output_type": "stream",
     "text": [
      "Wed Nov  9 06:16:37 2022       \n",
      "+-----------------------------------------------------------------------------+\n",
      "| NVIDIA-SMI 520.61.05    Driver Version: 520.61.05    CUDA Version: 11.8     |\n",
      "|-------------------------------+----------------------+----------------------+\n",
      "| GPU  Name        Persistence-M| Bus-Id        Disp.A | Volatile Uncorr. ECC |\n",
      "| Fan  Temp  Perf  Pwr:Usage/Cap|         Memory-Usage | GPU-Util  Compute M. |\n",
      "|                               |                      |               MIG M. |\n",
      "|===============================+======================+======================|\n",
      "|   0  NVIDIA GeForce ...  On   | 00000000:73:00.0  On |                  N/A |\n",
      "|  0%   52C    P8    18W / 320W |    503MiB / 10240MiB |      0%      Default |\n",
      "|                               |                      |                  N/A |\n",
      "+-------------------------------+----------------------+----------------------+\n",
      "                                                                               \n",
      "+-----------------------------------------------------------------------------+\n",
      "| Processes:                                                                  |\n",
      "|  GPU   GI   CI        PID   Type   Process name                  GPU Memory |\n",
      "|        ID   ID                                                   Usage      |\n",
      "|=============================================================================|\n",
      "|    0   N/A  N/A      2263      G   /usr/lib/xorg/Xorg                224MiB |\n",
      "|    0   N/A  N/A      2448      G   ...ome-remote-desktop-daemon        3MiB |\n",
      "|    0   N/A  N/A      2509      G   /usr/bin/gnome-shell               88MiB |\n",
      "|    0   N/A  N/A     46189      G   ...RendererForSitePerProcess       38MiB |\n",
      "|    0   N/A  N/A     54501    C+G   ...113238316389896827,131072      141MiB |\n",
      "+-----------------------------------------------------------------------------+\n"
     ]
    }
   ],
   "source": [
    "!nvidia-smi"
   ]
  },
  {
   "cell_type": "code",
   "execution_count": 6,
   "id": "b9775b0c",
   "metadata": {},
   "outputs": [],
   "source": [
    "%matplotlib inline"
   ]
  },
  {
   "cell_type": "code",
   "execution_count": 3,
   "id": "bd346865",
   "metadata": {},
   "outputs": [
    {
     "name": "stdout",
     "output_type": "stream",
     "text": [
      "Adding autoShape... \n"
     ]
    }
   ],
   "source": [
    "#static camera properties\n",
    "dataset_directory = \"/media/gabriel/DATA/dataset\"\n",
    "touchdown_target_lat_lon = [1.3541354199301814, 103.97961848373048]\n",
    "\n",
    "data_indexes = [1,2]\n",
    "data_sources = []\n",
    "t = 2\n",
    "r = 1\n",
    "w = 1\n",
    "\n",
    "for data_index in data_indexes:\n",
    "    data_sources.append([f'{dataset_directory}/t{t}/r{r}/w{w}/{data_index}/data.pkl', f'{dataset_directory}/t{t}/r{r}/w{w}/{data_index}/video.avi'])\n",
    "    \n",
    "acd = custom_utils.aircraft_camera_data(data_sources = data_sources, touchdown_target_lat_lon = touchdown_target_lat_lon, model_sources = [\"trained_mlp/wsss_mono_view_1.pt\", \"trained_mlp/wsss_mono_view_2.pt\", \"trained_mlp/wsss_stereo.pt\"])\n",
    "\n",
    "acd.initiate_yolov7()\n",
    "acd.initiate_mlp_dual()"
   ]
  },
  {
   "cell_type": "code",
   "execution_count": 4,
   "id": "a09258da",
   "metadata": {},
   "outputs": [
    {
     "name": "stdout",
     "output_type": "stream",
     "text": [
      "Inferencing using Mono Camera Model\n",
      "No Airplanes Detected in Camera 0\n",
      "  Predicted Distance (nm)    Ground Truth Distance (nm)    Errors (%)\n",
      "-------------------------  ----------------------------  ------------\n",
      "                  1.88239                           nan           nan\n",
      "YOLO Inference Time : 6.353718519210815 (0 fps)\n",
      "MLP  Inference Time : 0.004976749420166016 (200 fps)\n",
      "Cumulative          : 6.3586952686309814 (0 fps)\n"
     ]
    },
    {
     "name": "stderr",
     "output_type": "stream",
     "text": [
      "C:\\Users\\gabriel\\Anaconda3\\envs\\ad\\lib\\site-packages\\torch\\functional.py:478: UserWarning: torch.meshgrid: in an upcoming release, it will be required to pass the indexing argument. (Triggered internally at  C:\\cb\\pytorch_1000000000000\\work\\aten\\src\\ATen\\native\\TensorShape.cpp:2895.)\n",
      "  return _VF.meshgrid(tensors, **kwargs)  # type: ignore[attr-defined]\n"
     ]
    }
   ],
   "source": [
    "pred, gt, img = acd.single_inference(0, mono_mode = True, verbose = True)\n",
    "\n",
    "fig, ax = plt.subplots(1,1,figsize=(20,20))\n",
    "ax.imshow(img[0])"
   ]
  },
  {
   "cell_type": "code",
   "execution_count": 4,
   "id": "135d33ba",
   "metadata": {},
   "outputs": [
    {
     "name": "stdout",
     "output_type": "stream",
     "text": [
      "Detecting Airplanes Using Yolov7\n"
     ]
    },
    {
     "data": {
      "application/vnd.jupyter.widget-view+json": {
       "model_id": "cbcbaf143531440ba76441c61418dacb",
       "version_major": 2,
       "version_minor": 0
      },
      "text/plain": [
       "Detecting Objects for data 0:   0%|          | 0/51 [00:00<?, ?it/s]"
      ]
     },
     "metadata": {},
     "output_type": "display_data"
    },
    {
     "name": "stderr",
     "output_type": "stream",
     "text": [
      "C:\\Users\\gabriel\\Anaconda3\\envs\\ad\\lib\\site-packages\\torch\\functional.py:478: UserWarning: torch.meshgrid: in an upcoming release, it will be required to pass the indexing argument. (Triggered internally at  C:\\cb\\pytorch_1000000000000\\work\\aten\\src\\ATen\\native\\TensorShape.cpp:2895.)\n",
      "  return _VF.meshgrid(tensors, **kwargs)  # type: ignore[attr-defined]\n"
     ]
    },
    {
     "data": {
      "application/vnd.jupyter.widget-view+json": {
       "model_id": "7fdbfc85c7814207a6f2a7d8f05a4c2d",
       "version_major": 2,
       "version_minor": 0
      },
      "text/plain": [
       "Detecting Objects for data 1:   0%|          | 0/55 [00:00<?, ?it/s]"
      ]
     },
     "metadata": {},
     "output_type": "display_data"
    },
    {
     "name": "stdout",
     "output_type": "stream",
     "text": [
      "Computing Camera to Aircraft Distances\n"
     ]
    },
    {
     "data": {
      "application/vnd.jupyter.widget-view+json": {
       "model_id": "b41e18a7bb9a4170bd026eaba09bb8ce",
       "version_major": 2,
       "version_minor": 0
      },
      "text/plain": [
       "  0%|          | 0/5313 [00:00<?, ?it/s]"
      ]
     },
     "metadata": {},
     "output_type": "display_data"
    },
    {
     "name": "stdout",
     "output_type": "stream",
     "text": [
      "Done!\n"
     ]
    }
   ],
   "source": [
    "acd.detect_and_compile(batch_size = 96)"
   ]
  }
 ],
 "metadata": {
  "kernelspec": {
   "display_name": "ad",
   "language": "python",
   "name": "ad"
  },
  "language_info": {
   "codemirror_mode": {
    "name": "ipython",
    "version": 3
   },
   "file_extension": ".py",
   "mimetype": "text/x-python",
   "name": "python",
   "nbconvert_exporter": "python",
   "pygments_lexer": "ipython3",
   "version": "3.10.6"
  },
  "vscode": {
   "interpreter": {
    "hash": "6d42a7d7d413ce4d403c279b84e9144d03d627111e31dbabc3fd15680dae8784"
   }
  }
 },
 "nbformat": 4,
 "nbformat_minor": 5
}
