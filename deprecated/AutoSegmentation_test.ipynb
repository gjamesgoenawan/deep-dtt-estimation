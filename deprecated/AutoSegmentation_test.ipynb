{
 "cells": [
  {
   "cell_type": "code",
   "execution_count": 3,
   "id": "bfaa4a8d",
   "metadata": {},
   "outputs": [
    {
     "name": "stdout",
     "output_type": "stream",
     "text": [
      "aircraft-detection custom utils\n"
     ]
    }
   ],
   "source": [
    "import pickle as pkl\n",
    "import tqdm.notebook as tqdm\n",
    "import cv2\n",
    "import torch\n",
    "import time\n",
    "import math\n",
    "\n",
    "from numpy import random\n",
    "import os\n",
    "import tqdm.notebook as tqdm\n",
    "import numpy as np\n",
    "import matplotlib.pyplot as plt\n",
    "import geopy.distance \n",
    "from IPython import display\n",
    "from ipywidgets import Output\n",
    "\n",
    "import custom_utils\n",
    "torch.backends.cudnn.benchmark = True"
   ]
  },
  {
   "cell_type": "code",
   "execution_count": 4,
   "id": "2da865b9",
   "metadata": {},
   "outputs": [],
   "source": [
    "%matplotlib inline"
   ]
  },
  {
   "cell_type": "code",
   "execution_count": 5,
   "id": "d109309f",
   "metadata": {},
   "outputs": [
    {
     "name": "stdout",
     "output_type": "stream",
     "text": [
      "Adding autoShape... \n"
     ]
    }
   ],
   "source": [
    "#static camera properties\n",
    "touchdown_target_lat_lon = [1.3541354199301814, 103.97961848373048]\n",
    "\n",
    "data_indexes = [1,2]\n",
    "data_sources = []\n",
    "t = 1\n",
    "r = 1\n",
    "w = 1\n",
    "\n",
    "for data_index in data_indexes:\n",
    "    data_sources.append([f'dataset\\\\t{t}\\\\r{r}\\\\w{w}\\\\{data_index}\\\\data.pkl', f'dataset\\\\t{t}\\\\r{r}\\\\w{w}\\\\{data_index}\\\\video.avi'])\n",
    "    \n",
    "acd = custom_utils.aircraft_camera_data(data_sources = data_sources, touchdown_target_lat_lon = touchdown_target_lat_lon, model_sources = [\"trained_mlp\\\\wsss_mono_view_1.pt\", \"trained_mlp\\\\wsss_mono_view_2.pt\", \"trained_mlp\\\\wsss_stereo.pt\"])\n",
    "\n",
    "acd.initiate_yolov7()\n",
    "acd.initiate_mlp_dual()"
   ]
  },
  {
   "cell_type": "code",
   "execution_count": 17,
   "id": "0007cc35",
   "metadata": {},
   "outputs": [],
   "source": [
    "def auto_segmentation(image, target_segment = [3,2]):\n",
    "    images = []\n",
    "    image_size = image.shape\n",
    "    target_size = [math.floor(image_size[1]/target_segment[0]), math.floor(image_size[0]/target_segment[1])]\n",
    "    for j in range(0, target_segment[1]):\n",
    "        crop_height = target_size[1]\n",
    "        if j == (target_segment[1]-1):\n",
    "            crop_height += image_size[0]%target_segment[1]  \n",
    "        for i in range(0,target_segment[0]):\n",
    "            crop_width = target_size[0]\n",
    "            if i == (target_segment[0]-1):\n",
    "                crop_width += image_size[1]%target_segment[0]\n",
    "            images.append(np.ascontiguousarray(image[j*target_size[1]:j*target_size[1]+crop_height, i*target_size[0]:i*target_size[0]+crop_width]))\n",
    "    return images"
   ]
  },
  {
   "cell_type": "code",
   "execution_count": 18,
   "id": "f909e834",
   "metadata": {},
   "outputs": [
    {
     "name": "stdout",
     "output_type": "stream",
     "text": [
      "209 ms ± 4.22 ms per loop (mean ± std. dev. of 7 runs, 1 loop each)\n"
     ]
    }
   ],
   "source": [
    "%timeit auto_segmentation(acd.get_frame_from_video_synced(synced_index = 100)[0])"
   ]
  }
 ],
 "metadata": {
  "kernelspec": {
   "display_name": "ad",
   "language": "python",
   "name": "ad"
  },
  "language_info": {
   "codemirror_mode": {
    "name": "ipython",
    "version": 3
   },
   "file_extension": ".py",
   "mimetype": "text/x-python",
   "name": "python",
   "nbconvert_exporter": "python",
   "pygments_lexer": "ipython3",
   "version": "3.10.6"
  }
 },
 "nbformat": 4,
 "nbformat_minor": 5
}
