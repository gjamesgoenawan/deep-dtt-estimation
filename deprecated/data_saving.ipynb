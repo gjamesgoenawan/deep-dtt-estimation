{
 "cells": [
  {
   "cell_type": "code",
   "execution_count": 9,
   "id": "de1a3904",
   "metadata": {},
   "outputs": [],
   "source": [
    "import pickle as pkl\n",
    "import tqdm.notebook as tqdm\n",
    "import cv2\n",
    "import pandas as pd\n",
    "import torch\n",
    "import time\n",
    "\n",
    "from numpy import random\n",
    "import os\n",
    "import tqdm.notebook as tqdm\n",
    "import numpy as np\n",
    "import matplotlib.pyplot as plt\n",
    "import geopy.distance \n",
    "from IPython import display\n",
    "from ipywidgets import Output\n",
    "\n",
    "import custom_utils\n",
    "torch.backends.cudnn.benchmark = True"
   ]
  },
  {
   "cell_type": "code",
   "execution_count": 10,
   "id": "0b104e30",
   "metadata": {},
   "outputs": [
    {
     "data": {
      "text/plain": [
       "mlp_dual(\n",
       "  (fc): Sequential(\n",
       "    (0): Linear(in_features=8, out_features=256, bias=True)\n",
       "    (1): ReLU()\n",
       "    (2): Linear(in_features=256, out_features=256, bias=True)\n",
       "    (3): ReLU()\n",
       "    (4): Linear(in_features=256, out_features=256, bias=True)\n",
       "    (5): ReLU()\n",
       "    (6): Linear(in_features=256, out_features=1, bias=True)\n",
       "    (7): ReLU()\n",
       "  )\n",
       ")"
      ]
     },
     "execution_count": 10,
     "metadata": {},
     "output_type": "execute_result"
    }
   ],
   "source": [
    "device = 'cuda:0'\n",
    "model = torch.load(\"trained_mlp/wsss_stereo.pt\")\n",
    "model.eval()"
   ]
  },
  {
   "cell_type": "code",
   "execution_count": 11,
   "id": "f2697984",
   "metadata": {},
   "outputs": [],
   "source": [
    "with open('processed_data\\\\1.pkl', 'rb') as f:\n",
    "    detections, distances, calibration = pkl.load(f)\n",
    "pred, gt = custom_utils.convert_to_model_format(detections, distances, calibration, scale_pred = model.scale_pred, scale_gt = model.scale_gt, skip_missing = True)"
   ]
  },
  {
   "cell_type": "code",
   "execution_count": 12,
   "id": "82a7bd09",
   "metadata": {},
   "outputs": [],
   "source": [
    "pred = pred[:-100]\n",
    "gt = gt[:-100]"
   ]
  },
  {
   "cell_type": "code",
   "execution_count": 13,
   "id": "2c80f1ee",
   "metadata": {},
   "outputs": [],
   "source": [
    "y = model(torch.from_numpy(pred).to(device).float()).cpu().detach().numpy() * 8"
   ]
  },
  {
   "cell_type": "code",
   "execution_count": 14,
   "id": "97c7903e",
   "metadata": {},
   "outputs": [],
   "source": [
    "data = pd.DataFrame(pred, columns = [\"Camera 1 Detection Box X-Centroid\", \"Camera 1 Detection Box Y-Centroid\", \"Camera 1 Detection Box Width\", \"Camera 1 Detection Box Height\", \"Camera 2 Detection Box X-Centroid\", \"Camera 2 Detection Box Y-Centroid\", \"Camera 2 Detection Box Width\", \"Camera 2 Detection Box Height\"])\n",
    "data['Ground Truth Distance'] = gt * 8\n",
    "data['Prediction Stereo Camera'] = y.squeeze()"
   ]
  },
  {
   "cell_type": "code",
   "execution_count": 15,
   "id": "5617b272",
   "metadata": {},
   "outputs": [],
   "source": [
    "model = torch.load(\"trained_mlp/wsss_mono_view_1.pt\")\n",
    "model.eval()\n",
    "y = model(torch.from_numpy(pred[:, :4]).to(device).float()).cpu().detach().numpy() * 8"
   ]
  },
  {
   "cell_type": "code",
   "execution_count": 16,
   "id": "3f522874",
   "metadata": {},
   "outputs": [],
   "source": [
    "data['Prediction Mono Camera 1'] = y.squeeze()"
   ]
  },
  {
   "cell_type": "code",
   "execution_count": 17,
   "id": "8db20039",
   "metadata": {},
   "outputs": [],
   "source": [
    "model = torch.load(\"trained_mlp/wsss_mono_view_2.pt\")\n",
    "model.eval()\n",
    "y = model(torch.from_numpy(pred[:, 4:]).to(device).float()).cpu().detach().numpy() * 8"
   ]
  },
  {
   "cell_type": "code",
   "execution_count": 18,
   "id": "3f5590ac",
   "metadata": {},
   "outputs": [],
   "source": [
    "data['Prediction Mono Camera 2'] = y.squeeze()"
   ]
  },
  {
   "cell_type": "code",
   "execution_count": 19,
   "id": "75e07493",
   "metadata": {},
   "outputs": [
    {
     "data": {
      "text/plain": [
       "0.13736580541562504"
      ]
     },
     "execution_count": 19,
     "metadata": {},
     "output_type": "execute_result"
    }
   ],
   "source": [
    "y = data['Prediction Stereo Camera'].to_numpy()\n",
    "gt = data[\"Ground Truth Distance\"].to_numpy()\n",
    "(100 * abs(y-gt)/gt).sum()/gt.shape[0]"
   ]
  },
  {
   "cell_type": "code",
   "execution_count": 20,
   "id": "ac64f1ec",
   "metadata": {},
   "outputs": [
    {
     "data": {
      "text/plain": [
       "0.2535459604418267"
      ]
     },
     "execution_count": 20,
     "metadata": {},
     "output_type": "execute_result"
    }
   ],
   "source": [
    "y = data['Prediction Mono Camera 1'].to_numpy()\n",
    "gt = data[\"Ground Truth Distance\"].to_numpy()\n",
    "(100 * abs(y-gt)/gt).sum()/gt.shape[0]"
   ]
  },
  {
   "cell_type": "code",
   "execution_count": 21,
   "id": "13d3918d",
   "metadata": {},
   "outputs": [
    {
     "data": {
      "text/plain": [
       "0.2562244648969473"
      ]
     },
     "execution_count": 21,
     "metadata": {},
     "output_type": "execute_result"
    }
   ],
   "source": [
    "y = data['Prediction Mono Camera 2'].to_numpy()\n",
    "gt = data[\"Ground Truth Distance\"].to_numpy()\n",
    "(100 * abs(y-gt)/gt).sum()/gt.shape[0]"
   ]
  },
  {
   "cell_type": "code",
   "execution_count": 22,
   "id": "5ced30c3",
   "metadata": {},
   "outputs": [],
   "source": [
    "data.to_csv(\"data.csv\")"
   ]
  },
  {
   "cell_type": "code",
   "execution_count": 10,
   "id": "7b6d27be",
   "metadata": {},
   "outputs": [],
   "source": [
    "import os"
   ]
  },
  {
   "cell_type": "code",
   "execution_count": 13,
   "id": "b40522da",
   "metadata": {},
   "outputs": [],
   "source": [
    "def callback():\n",
    "    os.rename(\"tt.txt\", \"yy.txt\")"
   ]
  },
  {
   "cell_type": "code",
   "execution_count": 14,
   "id": "ab30af82",
   "metadata": {},
   "outputs": [],
   "source": [
    "import threading\n",
    "\n",
    "timer = threading.Timer(5.0, callback)\n",
    "timer.start()  # after 60 seconds, 'callback' will be called\n"
   ]
  },
  {
   "cell_type": "code",
   "execution_count": null,
   "id": "cb09d3fc",
   "metadata": {},
   "outputs": [],
   "source": []
  }
 ],
 "metadata": {
  "kernelspec": {
   "display_name": "ad",
   "language": "python",
   "name": "ad"
  },
  "language_info": {
   "codemirror_mode": {
    "name": "ipython",
    "version": 3
   },
   "file_extension": ".py",
   "mimetype": "text/x-python",
   "name": "python",
   "nbconvert_exporter": "python",
   "pygments_lexer": "ipython3",
   "version": "3.7.13"
  }
 },
 "nbformat": 4,
 "nbformat_minor": 5
}
