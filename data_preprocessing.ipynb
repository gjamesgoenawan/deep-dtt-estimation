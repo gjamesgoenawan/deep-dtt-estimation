{
 "cells": [
  {
   "cell_type": "code",
   "execution_count": 1,
   "id": "a8a5c68b",
   "metadata": {},
   "outputs": [
    {
     "name": "stdout",
     "output_type": "stream",
     "text": [
      "aircraft-detection custom utils\n"
     ]
    }
   ],
   "source": [
    "from IPython.display import clear_output\n",
    "from utils.dataset import aircraft_camera_data\n",
    "import utils.object_detector as od\n",
    "import math\n",
    "import os\n",
    "import matplotlib.pyplot as plt\n",
    "import cv2\n",
    "import time\n",
    "import torch\n",
    "import tqdm.notebook as tqdm\n",
    "import numpy as np\n",
    "import pickle as pkl"
   ]
  },
  {
   "cell_type": "code",
   "execution_count": null,
   "id": "2de7e70b",
   "metadata": {},
   "outputs": [
    {
     "name": "stdout",
     "output_type": "stream",
     "text": [
      "Processing Data: t:1 w:1 r:1\n"
     ]
    },
    {
     "name": "stderr",
     "output_type": "stream",
     "text": [
      "  1%|▌                                        | 15/1003 [00:15<17:04,  1.04s/it]"
     ]
    }
   ],
   "source": [
    "# Main Object Detector\n",
    "mod = od.main_object_detector()\n",
    "\n",
    "data_indexes = [1,2] # Camera 1 & 2\n",
    "touchdown_target_lat_lon = [1.3541354199301814, 103.97961848373048] # WSSS 02L Runway\n",
    "dataset_directory = \"/media/gabriel/DATA/dataset\"\n",
    "for t in range(1,6):\n",
    "    for w in range(1,6):\n",
    "        for r in range(1,4):\n",
    "            clear_output(wait=True)\n",
    "            print(f\"Processing Data: t:{t} w:{w} r:{r}\")\n",
    "            data_sources = [[f'{dataset_directory}/t{t}/r{r}/w{w}/{data_index}/data.pkl', f'{dataset_directory}/t{t}/r{r}/w{w}/{data_index}/video.avi'] for data_index in data_indexes]\n",
    "            # Dataset Class Initialization\n",
    "            acd = aircraft_camera_data(data_sources = data_sources, touchdown_target_lat_lon = touchdown_target_lat_lon)\n",
    "            box, scores = mod.all_inference(acd)\n",
    "            gt_distance = acd.compute_dtt()\n",
    "            filename = f\"output/object_detector/t{t}r{r}w{w}.pkl\"\n",
    "            os.makedirs(os.path.dirname(filename), exist_ok=True)\n",
    "            with open(filename, 'wb') as f:\n",
    "                pkl.dump((box, scores, gt_distance), f)"
   ]
  },
  {
   "cell_type": "code",
   "execution_count": null,
   "id": "1415f3f4",
   "metadata": {},
   "outputs": [],
   "source": [
    "    "
   ]
  }
 ],
 "metadata": {
  "kernelspec": {
   "display_name": "ad",
   "language": "python",
   "name": "ad"
  },
  "language_info": {
   "codemirror_mode": {
    "name": "ipython",
    "version": 3
   },
   "file_extension": ".py",
   "mimetype": "text/x-python",
   "name": "python",
   "nbconvert_exporter": "python",
   "pygments_lexer": "ipython3",
   "version": "3.10.6"
  }
 },
 "nbformat": 4,
 "nbformat_minor": 5
}
